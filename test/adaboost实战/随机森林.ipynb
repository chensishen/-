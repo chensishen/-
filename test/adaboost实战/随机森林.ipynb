{
 "cells": [
  {
   "cell_type": "code",
   "execution_count": 5,
   "id": "10050d06-562f-4c83-ba4c-79f4bdd37b95",
   "metadata": {},
   "outputs": [],
   "source": [
    "import pandas as pd\n",
    "import numpy as np\n",
    "from sklearn.ensemble import RandomForestClassifier\n",
    "from sklearn.model_selection import GridSearchCV,train_test_split\n",
    "from sklearn import metrics\n",
    "\n",
    "import matplotlib.pylab as plt\n",
    "%matplotlib inline"
   ]
  },
  {
   "cell_type": "code",
   "execution_count": 8,
   "id": "5c3b7f43-1e35-4298-8283-b6787f8ba52a",
   "metadata": {},
   "outputs": [
    {
     "data": {
      "text/plain": [
       "Disbursed\n",
       "0    19680\n",
       "1      320\n",
       "Name: count, dtype: int64"
      ]
     },
     "execution_count": 8,
     "metadata": {},
     "output_type": "execute_result"
    }
   ],
   "source": [
    "train = pd.read_csv('./train_modified/train_modified_1.csv')\n",
    "target='Disbursed' # Disbursed的值就是二元分类的输出\n",
    "IDcol = 'ID'\n",
    "train['Disbursed'].value_counts() "
   ]
  },
  {
   "cell_type": "code",
   "execution_count": 10,
   "id": "85067fe0-a5cf-47fa-8ff2-e85fe9e23b28",
   "metadata": {},
   "outputs": [],
   "source": [
    "x_columns = [x for x in train.columns if x not in [target, IDcol]]\n",
    "X = train[x_columns]\n",
    "y = train['Disbursed']"
   ]
  },
  {
   "cell_type": "code",
   "execution_count": 16,
   "id": "4a77df30-fb33-4d68-967b-a29c0757cb64",
   "metadata": {},
   "outputs": [
    {
     "name": "stdout",
     "output_type": "stream",
     "text": [
      "0.98315\n",
      "AUC Score (Train): 0.999994\n"
     ]
    }
   ],
   "source": [
    "rf0 = RandomForestClassifier(oob_score=True, random_state=10)\n",
    "rf0.fit(X,y)\n",
    "print (rf0.oob_score_)\n",
    "y_predprob = rf0.predict_proba(X)[:,1]\n",
    "print (\"AUC Score (Train): %f\" % metrics.roc_auc_score(y, y_predprob))"
   ]
  },
  {
   "cell_type": "code",
   "execution_count": 26,
   "id": "7b7e1f57-c797-4140-9c82-6d6c64236642",
   "metadata": {},
   "outputs": [
    {
     "name": "stdout",
     "output_type": "stream",
     "text": [
      "0.984\n",
      "AUC Score (Train): 0.928755\n"
     ]
    }
   ],
   "source": [
    "rf1 = RandomForestClassifier(n_estimators= 60, max_depth=13, min_samples_split=110,\n",
    "                                  min_samples_leaf=20,max_features='sqrt' ,oob_score=True, random_state=10)\n",
    "rf1.fit(X,y)\n",
    "print (rf1.oob_score_)\n",
    "y_predprob = rf1.predict_proba(X)[:,1]\n",
    "print (\"AUC Score (Train): %f\" % metrics.roc_auc_score(y, y_predprob))"
   ]
  },
  {
   "cell_type": "code",
   "execution_count": 27,
   "id": "603a2cbd-f5bd-487d-8d3a-e849857983af",
   "metadata": {},
   "outputs": [
    {
     "name": "stdout",
     "output_type": "stream",
     "text": [
      "0.984\n",
      "AUC Score (Train): 0.926915\n"
     ]
    }
   ],
   "source": [
    "rf2 = RandomForestClassifier(n_estimators= 60, max_depth=13, min_samples_split=120,\n",
    "                                  min_samples_leaf=20,max_features=7 ,oob_score=True, random_state=10)\n",
    "rf2.fit(X,y)\n",
    "print (rf2.oob_score_)\n",
    "y_predprob = rf2.predict_proba(X)[:,1]\n",
    "print (\"AUC Score (Train): %f\" % metrics.roc_auc_score(y, y_predprob))"
   ]
  },
  {
   "cell_type": "code",
   "execution_count": 30,
   "id": "386575ab-0289-4e84-a2be-70e674430135",
   "metadata": {},
   "outputs": [
    {
     "data": {
      "text/plain": [
       "({'mean_fit_time': array([0.09838862, 0.15245118, 0.22026167, 0.29403601, 0.36355453,\n",
       "         0.4313941 , 0.50080442]),\n",
       "  'std_fit_time': array([0.01477097, 0.00942052, 0.00221559, 0.00400959, 0.00896303,\n",
       "         0.00424901, 0.00383059]),\n",
       "  'mean_score_time': array([0.00930533, 0.01120896, 0.01373477, 0.01822448, 0.02227917,\n",
       "         0.02318182, 0.02554889]),\n",
       "  'std_score_time': array([0.00133327, 0.00103048, 0.00123022, 0.00099286, 0.00251708,\n",
       "         0.00250156, 0.00120107]),\n",
       "  'param_n_estimators': masked_array(data=[10, 20, 30, 40, 50, 60, 70],\n",
       "               mask=[False, False, False, False, False, False, False],\n",
       "         fill_value='?',\n",
       "              dtype=object),\n",
       "  'params': [{'n_estimators': 10},\n",
       "   {'n_estimators': 20},\n",
       "   {'n_estimators': 30},\n",
       "   {'n_estimators': 40},\n",
       "   {'n_estimators': 50},\n",
       "   {'n_estimators': 60},\n",
       "   {'n_estimators': 70}],\n",
       "  'split0_test_score': array([0.81797431, 0.82673558, 0.8370927 , 0.83676321, 0.8351753 ,\n",
       "         0.83643769, 0.83286093]),\n",
       "  'split1_test_score': array([0.78064461, 0.78217893, 0.79100967, 0.79112479, 0.7911367 ,\n",
       "         0.7932903 , 0.79317319]),\n",
       "  'split2_test_score': array([0.77967996, 0.77394166, 0.7725582 , 0.77300678, 0.77952514,\n",
       "         0.77912022, 0.7801603 ]),\n",
       "  'split3_test_score': array([0.82203538, 0.83827172, 0.83311103, 0.83438929, 0.83691605,\n",
       "         0.84013156, 0.83880566]),\n",
       "  'split4_test_score': array([0.83371245, 0.85888473, 0.85714201, 0.85663785, 0.85895024,\n",
       "         0.85668747, 0.8545954 ]),\n",
       "  'mean_test_score': array([0.80680934, 0.81600252, 0.81818272, 0.81838438, 0.82034069,\n",
       "         0.82113345, 0.8199191 ]),\n",
       "  'std_test_score': array([0.02236454, 0.03275104, 0.03136316, 0.03117524, 0.03001429,\n",
       "         0.02966341, 0.02836457]),\n",
       "  'rank_test_score': array([7, 6, 5, 4, 2, 1, 3])},\n",
       " {'n_estimators': 60},\n",
       " 0.8211334476626015)"
      ]
     },
     "execution_count": 30,
     "metadata": {},
     "output_type": "execute_result"
    }
   ],
   "source": [
    "param_test1 = {'n_estimators':[10,20,30,40,50,60,70]}\n",
    "gsearch1 = GridSearchCV(estimator = RandomForestClassifier(min_samples_split=100,\n",
    "                                  min_samples_leaf=20,max_depth=8,max_features='sqrt' ,random_state=10), \n",
    "                       param_grid = param_test1, scoring='roc_auc',cv=5)\n",
    "gsearch1.fit(X,y)\n",
    "gsearch1.cv_results_, gsearch1.best_params_, gsearch1.best_score_"
   ]
  },
  {
   "cell_type": "code",
   "execution_count": 41,
   "id": "40a75498-4cd0-41e0-b5e0-016f4489045a",
   "metadata": {},
   "outputs": [
    {
     "data": {
      "text/plain": [
       "({'mean_fit_time': array([0.49129376, 0.47828097, 0.47687159, 0.48589921, 0.49862442,\n",
       "         0.47429762, 0.46076512, 0.47128286, 0.55039992, 0.53791513,\n",
       "         0.53007936, 0.53249183, 0.53824148, 0.57704897, 0.55669217,\n",
       "         0.56419601, 0.63999052, 0.61052275, 0.60992126, 0.60951157,\n",
       "         0.60203562, 0.60724201, 0.62559657, 0.62187357, 0.67820683,\n",
       "         0.67297196, 0.64773517, 0.62646928, 0.6014976 , 0.60586019,\n",
       "         0.60852742, 0.66621413, 0.65892005, 0.67895923, 0.65724907,\n",
       "         0.6762991 , 0.68043671, 0.61486492, 0.62273846, 0.61553617,\n",
       "         0.64437981, 0.64706955, 0.69526682, 0.7267612 , 0.88064709,\n",
       "         1.16829796, 1.18097062, 1.17360916]),\n",
       "  'std_fit_time': array([0.03211026, 0.02228559, 0.01229285, 0.03175376, 0.0221795 ,\n",
       "         0.0204363 , 0.01104086, 0.01611919, 0.02673691, 0.02136254,\n",
       "         0.01380047, 0.00981869, 0.0105582 , 0.05252355, 0.02076915,\n",
       "         0.02629949, 0.03519757, 0.01986391, 0.03081263, 0.02344248,\n",
       "         0.0314626 , 0.02738289, 0.01072183, 0.02420378, 0.01645506,\n",
       "         0.02505486, 0.0262236 , 0.02900955, 0.01271871, 0.00815616,\n",
       "         0.0159412 , 0.0265342 , 0.02955646, 0.0452589 , 0.02187627,\n",
       "         0.04776526, 0.03779127, 0.00853827, 0.01178905, 0.00649709,\n",
       "         0.01882474, 0.01132116, 0.01052916, 0.04330132, 0.20517784,\n",
       "         0.02264353, 0.0256613 , 0.01811428]),\n",
       "  'mean_score_time': array([0.01918797, 0.01942883, 0.01985798, 0.01895194, 0.020927  ,\n",
       "         0.01912251, 0.019524  , 0.01889248, 0.0227109 , 0.02243018,\n",
       "         0.02172389, 0.02299705, 0.02292213, 0.02409515, 0.02372069,\n",
       "         0.02497387, 0.02922339, 0.02535143, 0.02959986, 0.02509422,\n",
       "         0.0249887 , 0.02771635, 0.02649245, 0.02929049, 0.03145475,\n",
       "         0.02915606, 0.02959194, 0.02833171, 0.02802863, 0.0281486 ,\n",
       "         0.02622671, 0.0277421 , 0.03134861, 0.03609481, 0.0291153 ,\n",
       "         0.03096056, 0.03008342, 0.0283442 , 0.02773242, 0.02684841,\n",
       "         0.02942781, 0.02886233, 0.03371682, 0.02935472, 0.0387897 ,\n",
       "         0.05093713, 0.05279093, 0.04899912]),\n",
       "  'std_score_time': array([0.00123068, 0.00116684, 0.00146856, 0.001405  , 0.00217103,\n",
       "         0.00169456, 0.00178999, 0.0008415 , 0.00236299, 0.00125066,\n",
       "         0.00145931, 0.00187576, 0.0022102 , 0.00086947, 0.00129253,\n",
       "         0.00399054, 0.00600879, 0.00081791, 0.00510872, 0.00108455,\n",
       "         0.00149515, 0.00353193, 0.00153081, 0.0023117 , 0.00193775,\n",
       "         0.00332142, 0.00549709, 0.00223082, 0.00091658, 0.00194011,\n",
       "         0.00191557, 0.00332335, 0.00268236, 0.00333405, 0.00303339,\n",
       "         0.00365378, 0.00173539, 0.00165305, 0.00132932, 0.00138715,\n",
       "         0.00102873, 0.00165027, 0.00532525, 0.00127854, 0.01100856,\n",
       "         0.0015215 , 0.00120772, 0.00153297]),\n",
       "  'param_max_depth': masked_array(data=[5, 5, 5, 5, 5, 5, 5, 5, 7, 7, 7, 7, 7, 7, 7, 7, 9, 9,\n",
       "                     9, 9, 9, 9, 9, 9, 11, 11, 11, 11, 11, 11, 11, 11, 13,\n",
       "                     13, 13, 13, 13, 13, 13, 13, 15, 15, 15, 15, 15, 15, 15,\n",
       "                     15],\n",
       "               mask=[False, False, False, False, False, False, False, False,\n",
       "                     False, False, False, False, False, False, False, False,\n",
       "                     False, False, False, False, False, False, False, False,\n",
       "                     False, False, False, False, False, False, False, False,\n",
       "                     False, False, False, False, False, False, False, False,\n",
       "                     False, False, False, False, False, False, False, False],\n",
       "         fill_value='?',\n",
       "              dtype=object),\n",
       "  'param_min_samples_split': masked_array(data=[50, 70, 90, 110, 130, 150, 170, 190, 50, 70, 90, 110,\n",
       "                     130, 150, 170, 190, 50, 70, 90, 110, 130, 150, 170,\n",
       "                     190, 50, 70, 90, 110, 130, 150, 170, 190, 50, 70, 90,\n",
       "                     110, 130, 150, 170, 190, 50, 70, 90, 110, 130, 150,\n",
       "                     170, 190],\n",
       "               mask=[False, False, False, False, False, False, False, False,\n",
       "                     False, False, False, False, False, False, False, False,\n",
       "                     False, False, False, False, False, False, False, False,\n",
       "                     False, False, False, False, False, False, False, False,\n",
       "                     False, False, False, False, False, False, False, False,\n",
       "                     False, False, False, False, False, False, False, False],\n",
       "         fill_value='?',\n",
       "              dtype=object),\n",
       "  'params': [{'max_depth': 5, 'min_samples_split': 50},\n",
       "   {'max_depth': 5, 'min_samples_split': 70},\n",
       "   {'max_depth': 5, 'min_samples_split': 90},\n",
       "   {'max_depth': 5, 'min_samples_split': 110},\n",
       "   {'max_depth': 5, 'min_samples_split': 130},\n",
       "   {'max_depth': 5, 'min_samples_split': 150},\n",
       "   {'max_depth': 5, 'min_samples_split': 170},\n",
       "   {'max_depth': 5, 'min_samples_split': 190},\n",
       "   {'max_depth': 7, 'min_samples_split': 50},\n",
       "   {'max_depth': 7, 'min_samples_split': 70},\n",
       "   {'max_depth': 7, 'min_samples_split': 90},\n",
       "   {'max_depth': 7, 'min_samples_split': 110},\n",
       "   {'max_depth': 7, 'min_samples_split': 130},\n",
       "   {'max_depth': 7, 'min_samples_split': 150},\n",
       "   {'max_depth': 7, 'min_samples_split': 170},\n",
       "   {'max_depth': 7, 'min_samples_split': 190},\n",
       "   {'max_depth': 9, 'min_samples_split': 50},\n",
       "   {'max_depth': 9, 'min_samples_split': 70},\n",
       "   {'max_depth': 9, 'min_samples_split': 90},\n",
       "   {'max_depth': 9, 'min_samples_split': 110},\n",
       "   {'max_depth': 9, 'min_samples_split': 130},\n",
       "   {'max_depth': 9, 'min_samples_split': 150},\n",
       "   {'max_depth': 9, 'min_samples_split': 170},\n",
       "   {'max_depth': 9, 'min_samples_split': 190},\n",
       "   {'max_depth': 11, 'min_samples_split': 50},\n",
       "   {'max_depth': 11, 'min_samples_split': 70},\n",
       "   {'max_depth': 11, 'min_samples_split': 90},\n",
       "   {'max_depth': 11, 'min_samples_split': 110},\n",
       "   {'max_depth': 11, 'min_samples_split': 130},\n",
       "   {'max_depth': 11, 'min_samples_split': 150},\n",
       "   {'max_depth': 11, 'min_samples_split': 170},\n",
       "   {'max_depth': 11, 'min_samples_split': 190},\n",
       "   {'max_depth': 13, 'min_samples_split': 50},\n",
       "   {'max_depth': 13, 'min_samples_split': 70},\n",
       "   {'max_depth': 13, 'min_samples_split': 90},\n",
       "   {'max_depth': 13, 'min_samples_split': 110},\n",
       "   {'max_depth': 13, 'min_samples_split': 130},\n",
       "   {'max_depth': 13, 'min_samples_split': 150},\n",
       "   {'max_depth': 13, 'min_samples_split': 170},\n",
       "   {'max_depth': 13, 'min_samples_split': 190},\n",
       "   {'max_depth': 15, 'min_samples_split': 50},\n",
       "   {'max_depth': 15, 'min_samples_split': 70},\n",
       "   {'max_depth': 15, 'min_samples_split': 90},\n",
       "   {'max_depth': 15, 'min_samples_split': 110},\n",
       "   {'max_depth': 15, 'min_samples_split': 130},\n",
       "   {'max_depth': 15, 'min_samples_split': 150},\n",
       "   {'max_depth': 15, 'min_samples_split': 170},\n",
       "   {'max_depth': 15, 'min_samples_split': 190}],\n",
       "  'split0_test_score': array([0.82106477, 0.81818868, 0.81633281, 0.82047328, 0.81733319,\n",
       "         0.81232732, 0.81567383, 0.81771429, 0.83755518, 0.82971489,\n",
       "         0.82488567, 0.82656488, 0.83121348, 0.82325807, 0.82694399,\n",
       "         0.82772008, 0.82574711, 0.82930998, 0.8262215 , 0.82408973,\n",
       "         0.83039769, 0.82074322, 0.82633464, 0.8295164 , 0.83015554,\n",
       "         0.82926631, 0.81959794, 0.82797018, 0.83578268, 0.82410363,\n",
       "         0.82615401, 0.82353794, 0.82335731, 0.82299606, 0.83206102,\n",
       "         0.82738464, 0.82751763, 0.81720219, 0.83011981, 0.82965931,\n",
       "         0.82894476, 0.82371856, 0.82650335, 0.82500476, 0.8379462 ,\n",
       "         0.81828196, 0.83154098, 0.82655496]),\n",
       "  'split1_test_score': array([0.78410029, 0.78509472, 0.78282004, 0.7806585 , 0.78206182,\n",
       "         0.78237146, 0.78104556, 0.78182363, 0.78862583, 0.79442565,\n",
       "         0.79122999, 0.79462613, 0.79867727, 0.7938679 , 0.79050948,\n",
       "         0.79537443, 0.79954268, 0.79698417, 0.79467575, 0.79319701,\n",
       "         0.7937111 , 0.79515411, 0.79755383, 0.79668445, 0.79763124,\n",
       "         0.8048979 , 0.80675376, 0.80675178, 0.79414182, 0.79613861,\n",
       "         0.79411601, 0.79871697, 0.80570178, 0.80474903, 0.8041754 ,\n",
       "         0.80042199, 0.79921915, 0.80355215, 0.79351856, 0.80418334,\n",
       "         0.79980667, 0.80742465, 0.79876659, 0.79364163, 0.79929259,\n",
       "         0.79962009, 0.79898493, 0.79803616]),\n",
       "  'split2_test_score': array([0.77379279, 0.77263362, 0.77588089, 0.77176027, 0.77225649,\n",
       "         0.77308618, 0.77190716, 0.77227237, 0.77339185, 0.78255407,\n",
       "         0.7725185 , 0.77543628, 0.76869561, 0.76960072, 0.77574393,\n",
       "         0.77508694, 0.78276844, 0.78255804, 0.79083897, 0.77801266,\n",
       "         0.77980699, 0.78613083, 0.78205388, 0.77613893, 0.7953645 ,\n",
       "         0.79264521, 0.78095028, 0.78752819, 0.78192685, 0.78214121,\n",
       "         0.78205388, 0.77442597, 0.79592027, 0.78565049, 0.78867942,\n",
       "         0.79675392, 0.79044199, 0.78651986, 0.77964026, 0.78055728,\n",
       "         0.78763537, 0.79323671, 0.78284386, 0.79087867, 0.78531703,\n",
       "         0.78252628, 0.78280019, 0.77331245]),\n",
       "  'split3_test_score': array([0.8283215 , 0.82721394, 0.83115195, 0.83476443, 0.83391689,\n",
       "         0.83661435, 0.83385536, 0.83206499, 0.8365409 , 0.83656869,\n",
       "         0.83990925, 0.83462748, 0.83737059, 0.83737456, 0.83847021,\n",
       "         0.83816652, 0.84034593, 0.83634043, 0.8363583 , 0.84499254,\n",
       "         0.83918874, 0.8365151 , 0.8351495 , 0.83379581, 0.83657465,\n",
       "         0.83618164, 0.83311698, 0.83366282, 0.82829768, 0.83853174,\n",
       "         0.83711652, 0.83276169, 0.83462748, 0.83735669, 0.83733883,\n",
       "         0.83343059, 0.83400025, 0.83702522, 0.8360685 , 0.83452426,\n",
       "         0.83241433, 0.83268428, 0.83150129, 0.8346513 , 0.82829372,\n",
       "         0.83627493, 0.83770802, 0.83564771]),\n",
       "  'split4_test_score': array([0.84073893, 0.84286276, 0.83820225, 0.83849204, 0.83557427,\n",
       "         0.83565168, 0.8371324 , 0.83468305, 0.84826759, 0.85035966,\n",
       "         0.84651296, 0.84252136, 0.84189612, 0.8488313 , 0.84838272,\n",
       "         0.84884321, 0.85611781, 0.85020682, 0.85369228, 0.85417262,\n",
       "         0.85646119, 0.85083802, 0.85378755, 0.85116155, 0.86003597,\n",
       "         0.85602253, 0.85721743, 0.85676488, 0.85736431, 0.85342829,\n",
       "         0.85607811, 0.84875588, 0.85493085, 0.85807887, 0.85851356,\n",
       "         0.86301726, 0.85924797, 0.84832516, 0.85838256, 0.85569304,\n",
       "         0.84903971, 0.85703284, 0.85146326, 0.85939882, 0.86273342,\n",
       "         0.85184237, 0.85679068, 0.85225522]),\n",
       "  'mean_test_score': array([0.80960366, 0.80919874, 0.80887759, 0.80922971, 0.80822853,\n",
       "         0.80801019, 0.80792286, 0.80771167, 0.81687627, 0.81872459,\n",
       "         0.81501127, 0.81475522, 0.81557061, 0.81458651, 0.81601007,\n",
       "         0.81703824, 0.82090439, 0.81907989, 0.82035736, 0.81889291,\n",
       "         0.81991314, 0.81787625, 0.81897588, 0.81745943, 0.82395238,\n",
       "         0.82380272, 0.81952728, 0.82253557, 0.81950267, 0.8188687 ,\n",
       "         0.81910371, 0.81563969, 0.82290754, 0.82176623, 0.82415365,\n",
       "         0.82420168, 0.8220854 , 0.81852491, 0.81954594, 0.82092345,\n",
       "         0.81956817, 0.82281941, 0.81821567, 0.82071503, 0.82271659,\n",
       "         0.81770913, 0.82156496, 0.8171613 ]),\n",
       "  'std_test_score': array([0.02601523, 0.02629313, 0.02521682, 0.02776687, 0.02634107,\n",
       "         0.02637392, 0.02685252, 0.02587171, 0.02996235, 0.02584075,\n",
       "         0.02856905, 0.02552055, 0.0279128 , 0.02905229, 0.0280843 ,\n",
       "         0.02757279, 0.02665364, 0.02527265, 0.02421783, 0.02927227,\n",
       "         0.02867851, 0.0243564 , 0.02588331, 0.02715535, 0.02453526,\n",
       "         0.02258047, 0.02552089, 0.0236628 , 0.02768036, 0.02635895,\n",
       "         0.02734355, 0.02621898, 0.02091603, 0.02512813, 0.0247973 ,\n",
       "         0.02416943, 0.02480605, 0.02227363, 0.02885471, 0.02599954,\n",
       "         0.02250216, 0.02182117, 0.02441322, 0.02581563, 0.02761088,\n",
       "         0.02479976, 0.02688321, 0.02810717]),\n",
       "  'rank_test_score': array([41, 43, 44, 42, 45, 46, 47, 48, 34, 26, 38, 39, 37, 40, 35, 33, 13,\n",
       "         22, 15, 24, 16, 29, 23, 31,  3,  4, 19,  8, 20, 25, 21, 36,  5, 10,\n",
       "          2,  1,  9, 27, 18, 12, 17,  6, 28, 14,  7, 30, 11, 32])},\n",
       " {'max_depth': 13, 'min_samples_split': 110},\n",
       " 0.8242016800050813)"
      ]
     },
     "execution_count": 41,
     "metadata": {},
     "output_type": "execute_result"
    }
   ],
   "source": [
    "param_test2 = {'max_depth':[5,7,9,11,13,15], 'min_samples_split':[50,70,90,110,130,150,170,190]}\n",
    "gsearch2 = GridSearchCV(estimator = RandomForestClassifier(n_estimators= 60, \n",
    "                                  min_samples_leaf=20,max_features='sqrt' ,oob_score=True, random_state=10),\n",
    "   param_grid = param_test2, scoring='roc_auc', cv=5)\n",
    "gsearch2.fit(X,y)\n",
    "gsearch2.cv_results_, gsearch2.best_params_, gsearch2.best_score_"
   ]
  },
  {
   "cell_type": "code",
   "execution_count": 36,
   "id": "db2b5fbf-f1ac-433a-b2b5-3b8b507572e4",
   "metadata": {},
   "outputs": [
    {
     "data": {
      "text/plain": [
       "({'mean_fit_time': array([0.68342915, 0.65838799, 0.66302476, 0.68330107, 0.63549919,\n",
       "         0.59536963, 0.59253755, 0.5832088 , 0.58364491, 0.62193518,\n",
       "         0.62465463, 0.60838799, 0.59512801, 0.60320954, 0.59693599,\n",
       "         0.57658706, 0.57149906, 0.58114705, 0.5858007 , 0.57308121]),\n",
       "  'std_fit_time': array([0.02604363, 0.02284157, 0.0301389 , 0.04203803, 0.0169528 ,\n",
       "         0.00890089, 0.0067608 , 0.00484318, 0.00505838, 0.03341658,\n",
       "         0.03870672, 0.02806758, 0.01074748, 0.02959104, 0.01161059,\n",
       "         0.00542265, 0.01176887, 0.013596  , 0.00834515, 0.01647223]),\n",
       "  'mean_score_time': array([0.03102241, 0.02915578, 0.02774835, 0.02720642, 0.02812848,\n",
       "         0.02626357, 0.02551064, 0.02574511, 0.0270555 , 0.02787118,\n",
       "         0.02725344, 0.02661486, 0.02621989, 0.02959027, 0.02509928,\n",
       "         0.02730293, 0.02560201, 0.02467108, 0.0272172 , 0.02562599]),\n",
       "  'std_score_time': array([0.00245529, 0.00171689, 0.0026804 , 0.00130649, 0.00341559,\n",
       "         0.00219389, 0.00180808, 0.00095044, 0.00156976, 0.00164832,\n",
       "         0.00168096, 0.00236001, 0.00343253, 0.00230942, 0.00072745,\n",
       "         0.00243485, 0.00204788, 0.00023598, 0.00186275, 0.00150583]),\n",
       "  'param_min_samples_leaf': masked_array(data=[10, 10, 10, 10, 20, 20, 20, 20, 30, 30, 30, 30, 40, 40,\n",
       "                     40, 40, 50, 50, 50, 50],\n",
       "               mask=[False, False, False, False, False, False, False, False,\n",
       "                     False, False, False, False, False, False, False, False,\n",
       "                     False, False, False, False],\n",
       "         fill_value='?',\n",
       "              dtype=object),\n",
       "  'param_min_samples_split': masked_array(data=[80, 100, 120, 140, 80, 100, 120, 140, 80, 100, 120,\n",
       "                     140, 80, 100, 120, 140, 80, 100, 120, 140],\n",
       "               mask=[False, False, False, False, False, False, False, False,\n",
       "                     False, False, False, False, False, False, False, False,\n",
       "                     False, False, False, False],\n",
       "         fill_value='?',\n",
       "              dtype=object),\n",
       "  'params': [{'min_samples_leaf': 10, 'min_samples_split': 80},\n",
       "   {'min_samples_leaf': 10, 'min_samples_split': 100},\n",
       "   {'min_samples_leaf': 10, 'min_samples_split': 120},\n",
       "   {'min_samples_leaf': 10, 'min_samples_split': 140},\n",
       "   {'min_samples_leaf': 20, 'min_samples_split': 80},\n",
       "   {'min_samples_leaf': 20, 'min_samples_split': 100},\n",
       "   {'min_samples_leaf': 20, 'min_samples_split': 120},\n",
       "   {'min_samples_leaf': 20, 'min_samples_split': 140},\n",
       "   {'min_samples_leaf': 30, 'min_samples_split': 80},\n",
       "   {'min_samples_leaf': 30, 'min_samples_split': 100},\n",
       "   {'min_samples_leaf': 30, 'min_samples_split': 120},\n",
       "   {'min_samples_leaf': 30, 'min_samples_split': 140},\n",
       "   {'min_samples_leaf': 40, 'min_samples_split': 80},\n",
       "   {'min_samples_leaf': 40, 'min_samples_split': 100},\n",
       "   {'min_samples_leaf': 40, 'min_samples_split': 120},\n",
       "   {'min_samples_leaf': 40, 'min_samples_split': 140},\n",
       "   {'min_samples_leaf': 50, 'min_samples_split': 80},\n",
       "   {'min_samples_leaf': 50, 'min_samples_split': 100},\n",
       "   {'min_samples_leaf': 50, 'min_samples_split': 120},\n",
       "   {'min_samples_leaf': 50, 'min_samples_split': 140}],\n",
       "  'split0_test_score': array([0.82845449, 0.82321638, 0.83177123, 0.82597934, 0.81923669,\n",
       "         0.82899438, 0.83293834, 0.83292842, 0.83152709, 0.82994712,\n",
       "         0.82897453, 0.82060626, 0.82249389, 0.8246058 , 0.82937151,\n",
       "         0.82820241, 0.83519118, 0.83519118, 0.83139013, 0.82688842]),\n",
       "  'split1_test_score': array([0.7987527 , 0.79892737, 0.80212899, 0.80147794, 0.8070376 ,\n",
       "         0.80161292, 0.79838748, 0.80480858, 0.80123579, 0.80077331,\n",
       "         0.80549932, 0.8038082 , 0.81101134, 0.80173598, 0.80329213,\n",
       "         0.80533259, 0.80047756, 0.80047756, 0.79987813, 0.79849466]),\n",
       "  'split2_test_score': array([0.79033878, 0.79120419, 0.78602563, 0.78658735, 0.7861348 ,\n",
       "         0.7875004 , 0.80341916, 0.78557109, 0.79268491, 0.78703593,\n",
       "         0.7803707 , 0.78780607, 0.78845314, 0.78461041, 0.7780722 ,\n",
       "         0.78574179, 0.78640871, 0.78640871, 0.78120038, 0.78213327]),\n",
       "  'split3_test_score': array([0.83617966, 0.83349609, 0.83135837, 0.83130875, 0.82981811,\n",
       "         0.83488551, 0.8346374 , 0.83021905, 0.84109621, 0.84205491,\n",
       "         0.83554449, 0.83417095, 0.83508003, 0.84203705, 0.83420668,\n",
       "         0.83663022, 0.84062381, 0.84062381, 0.8338236 , 0.83752938]),\n",
       "  'split4_test_score': array([0.85092138, 0.84882336, 0.85113575, 0.84452212, 0.8624873 ,\n",
       "         0.8518781 , 0.85494276, 0.85493482, 0.85106032, 0.84841249,\n",
       "         0.85310475, 0.8606751 , 0.85687405, 0.85408132, 0.85720155,\n",
       "         0.85219766, 0.84854746, 0.84854746, 0.8482279 , 0.85078641]),\n",
       "  'mean_test_score': array([0.8209294 , 0.81913348, 0.82048399, 0.8179751 , 0.8209429 ,\n",
       "         0.82097426, 0.82486503, 0.82169239, 0.82352087, 0.82164475,\n",
       "         0.82069876, 0.82141332, 0.82278249, 0.82141411, 0.82042881,\n",
       "         0.82162093, 0.82224975, 0.82224975, 0.81890403, 0.81916643]),\n",
       "  'std_test_score': array([0.02287491, 0.0214139 , 0.02327861, 0.02099498, 0.02534789,\n",
       "         0.02327339, 0.02110134, 0.02405753, 0.02271077, 0.02381345,\n",
       "         0.02528402, 0.02507702, 0.02293736, 0.02547305, 0.02723889,\n",
       "         0.02347831, 0.02431158, 0.02431158, 0.02458429, 0.02528014]),\n",
       "  'rank_test_score': array([13, 18, 15, 20, 12, 11,  1,  6,  2,  7, 14, 10,  3,  9, 16,  8,  4,\n",
       "          4, 19, 17])},\n",
       " {'min_samples_leaf': 20, 'min_samples_split': 120},\n",
       " 0.8248650279471545)"
      ]
     },
     "execution_count": 36,
     "metadata": {},
     "output_type": "execute_result"
    }
   ],
   "source": [
    "param_test3 = {'min_samples_split':[80,100,120,140], 'min_samples_leaf':[10,20,30,40,50]}\n",
    "gsearch3 = GridSearchCV(estimator = RandomForestClassifier(n_estimators= 60, max_depth=13,\n",
    "                                  max_features='sqrt' ,oob_score=True, random_state=10),\n",
    "   param_grid = param_test3, scoring='roc_auc', cv=5)\n",
    "gsearch3.fit(X,y)\n",
    "gsearch3.cv_results_, gsearch3.best_params_, gsearch3.best_score_"
   ]
  },
  {
   "cell_type": "code",
   "execution_count": 37,
   "id": "3978cbf7-6167-41bb-8c64-280be19598f3",
   "metadata": {},
   "outputs": [
    {
     "data": {
      "text/plain": [
       "({'mean_fit_time': array([0.41274347, 0.52686086, 0.62125111, 0.6905858 ]),\n",
       "  'std_fit_time': array([0.00339065, 0.01414571, 0.02077714, 0.01048934]),\n",
       "  'mean_score_time': array([0.02423925, 0.02845879, 0.02698178, 0.02693725]),\n",
       "  'std_score_time': array([0.0025778 , 0.00354095, 0.00186718, 0.00186767]),\n",
       "  'param_max_features': masked_array(data=[3, 5, 7, 9],\n",
       "               mask=[False, False, False, False],\n",
       "         fill_value='?',\n",
       "              dtype=object),\n",
       "  'params': [{'max_features': 3},\n",
       "   {'max_features': 5},\n",
       "   {'max_features': 7},\n",
       "   {'max_features': 9}],\n",
       "  'split0_test_score': array([0.81893102, 0.82697972, 0.83293834, 0.81775994]),\n",
       "  'split1_test_score': array([0.79912387, 0.79626763, 0.79838748, 0.80414563]),\n",
       "  'split2_test_score': array([0.78474935, 0.77782211, 0.80341916, 0.78332023]),\n",
       "  'split3_test_score': array([0.84169565, 0.83561793, 0.8346374 , 0.83346434]),\n",
       "  'split4_test_score': array([0.85455967, 0.8452466 , 0.85494276, 0.84648517]),\n",
       "  'mean_test_score': array([0.81981191, 0.8163868 , 0.82486503, 0.81703506]),\n",
       "  'std_test_score': array([0.02586294, 0.02532568, 0.02110134, 0.02209336]),\n",
       "  'rank_test_score': array([2, 4, 1, 3])},\n",
       " {'max_features': 7},\n",
       " 0.8248650279471545)"
      ]
     },
     "execution_count": 37,
     "metadata": {},
     "output_type": "execute_result"
    }
   ],
   "source": [
    "param_test4 = {'max_features':[3,5,7,9]}\n",
    "gsearch4 = GridSearchCV(estimator = RandomForestClassifier(n_estimators= 60, max_depth=13, min_samples_split=120,\n",
    "                                  min_samples_leaf=20 ,oob_score=True, random_state=10),\n",
    "   param_grid = param_test4, scoring='roc_auc', cv=5)\n",
    "gsearch4.fit(X,y)\n",
    "gsearch4.cv_results_, gsearch4.best_params_, gsearch4.best_score_"
   ]
  },
  {
   "cell_type": "code",
   "execution_count": null,
   "id": "b1029d4e-b10d-4642-9bd3-9bf96a9d27de",
   "metadata": {},
   "outputs": [],
   "source": []
  },
  {
   "cell_type": "code",
   "execution_count": null,
   "id": "4436b1f3-f084-4776-b712-97f819eee4e0",
   "metadata": {},
   "outputs": [],
   "source": []
  },
  {
   "cell_type": "code",
   "execution_count": null,
   "id": "4ffe38ea-47b0-4155-901e-88900c1aa269",
   "metadata": {},
   "outputs": [],
   "source": []
  },
  {
   "cell_type": "code",
   "execution_count": null,
   "id": "585c1195-417c-4e81-a28a-a289a110bff3",
   "metadata": {},
   "outputs": [],
   "source": []
  },
  {
   "cell_type": "code",
   "execution_count": null,
   "id": "3e1b481e-cd61-42f7-90f6-3160c03aee7b",
   "metadata": {},
   "outputs": [],
   "source": []
  },
  {
   "cell_type": "code",
   "execution_count": null,
   "id": "95972645-d059-4be3-84a1-2c33cd691014",
   "metadata": {},
   "outputs": [],
   "source": []
  },
  {
   "cell_type": "code",
   "execution_count": null,
   "id": "3b8492ac-dad3-4763-a034-36783abe73c3",
   "metadata": {},
   "outputs": [],
   "source": []
  },
  {
   "cell_type": "code",
   "execution_count": null,
   "id": "2b11651f-9d00-4a62-968a-80db2e9ec8fe",
   "metadata": {},
   "outputs": [],
   "source": []
  },
  {
   "cell_type": "code",
   "execution_count": null,
   "id": "b2e196fa-58a4-4d16-81ed-38beec996160",
   "metadata": {},
   "outputs": [],
   "source": []
  },
  {
   "cell_type": "code",
   "execution_count": null,
   "id": "e078ccc5-f37b-455c-839c-77d912722c22",
   "metadata": {},
   "outputs": [],
   "source": []
  },
  {
   "cell_type": "code",
   "execution_count": null,
   "id": "e080fc7d-c9df-41ee-86c5-516ccb3d403a",
   "metadata": {},
   "outputs": [],
   "source": []
  },
  {
   "cell_type": "code",
   "execution_count": null,
   "id": "788210de-2c4f-41c2-b29a-5969b14a5960",
   "metadata": {},
   "outputs": [],
   "source": []
  },
  {
   "cell_type": "code",
   "execution_count": null,
   "id": "0be382ef-5b7d-4451-88a6-5d95a2122ec6",
   "metadata": {},
   "outputs": [],
   "source": []
  },
  {
   "cell_type": "code",
   "execution_count": null,
   "id": "9fe58154-1c4e-4fe1-9727-f2f17db3f72f",
   "metadata": {},
   "outputs": [],
   "source": []
  },
  {
   "cell_type": "code",
   "execution_count": null,
   "id": "aa8c48c2-b799-4d00-afd4-d75f9d526921",
   "metadata": {},
   "outputs": [],
   "source": []
  },
  {
   "cell_type": "code",
   "execution_count": null,
   "id": "96c167a4-ee4e-4b13-8691-a0981843256e",
   "metadata": {},
   "outputs": [],
   "source": []
  }
 ],
 "metadata": {
  "kernelspec": {
   "display_name": "Python 3 (ipykernel)",
   "language": "python",
   "name": "python3"
  },
  "language_info": {
   "codemirror_mode": {
    "name": "ipython",
    "version": 3
   },
   "file_extension": ".py",
   "mimetype": "text/x-python",
   "name": "python",
   "nbconvert_exporter": "python",
   "pygments_lexer": "ipython3",
   "version": "3.12.4"
  }
 },
 "nbformat": 4,
 "nbformat_minor": 5
}
