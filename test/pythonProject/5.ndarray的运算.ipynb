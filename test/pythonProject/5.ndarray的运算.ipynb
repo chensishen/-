{
 "cells": [
  {
   "cell_type": "markdown",
   "id": "99dccb32-8c37-40bf-b228-cdc826f9369e",
   "metadata": {},
   "source": [
    "# ndarray的运算"
   ]
  },
  {
   "cell_type": "code",
   "execution_count": 2,
   "id": "6a6a64e2-d861-4c63-b0b1-e0fdf2bb7a41",
   "metadata": {},
   "outputs": [],
   "source": [
    "import numpy as np\n"
   ]
  },
  {
   "cell_type": "markdown",
   "id": "0f8a336c-20c7-49cc-9ec8-470ee03f7e35",
   "metadata": {},
   "source": [
    "## 逻辑运算"
   ]
  },
  {
   "cell_type": "code",
   "execution_count": 6,
   "id": "02985440-6a19-491e-bf02-1569b077024e",
   "metadata": {},
   "outputs": [],
   "source": [
    "score = np.random.randint(40,100,(10,5))"
   ]
  },
  {
   "cell_type": "code",
   "execution_count": 7,
   "id": "52288839-f20f-4956-9e89-ee1fddcb1529",
   "metadata": {},
   "outputs": [
    {
     "data": {
      "text/plain": [
       "array([[88, 57, 74, 57, 54],\n",
       "       [59, 85, 76, 51, 88],\n",
       "       [98, 96, 79, 96, 89],\n",
       "       [88, 46, 92, 56, 76],\n",
       "       [72, 82, 68, 65, 61],\n",
       "       [86, 93, 53, 89, 64],\n",
       "       [60, 78, 41, 75, 53],\n",
       "       [97, 69, 41, 46, 44],\n",
       "       [75, 46, 54, 95, 84],\n",
       "       [72, 94, 41, 80, 52]], dtype=int32)"
      ]
     },
     "execution_count": 7,
     "metadata": {},
     "output_type": "execute_result"
    }
   ],
   "source": [
    "score"
   ]
  },
  {
   "cell_type": "code",
   "execution_count": 8,
   "id": "46e15c86-89a3-43c4-97b9-37aea23a9420",
   "metadata": {},
   "outputs": [],
   "source": [
    "test_score = score[6:,0:4]"
   ]
  },
  {
   "cell_type": "code",
   "execution_count": 9,
   "id": "a49ba4e9-efc5-4378-ae3a-b0870d9e9169",
   "metadata": {},
   "outputs": [
    {
     "data": {
      "text/plain": [
       "array([[60, 78, 41, 75],\n",
       "       [97, 69, 41, 46],\n",
       "       [75, 46, 54, 95],\n",
       "       [72, 94, 41, 80]], dtype=int32)"
      ]
     },
     "execution_count": 9,
     "metadata": {},
     "output_type": "execute_result"
    }
   ],
   "source": [
    "test_score"
   ]
  },
  {
   "cell_type": "code",
   "execution_count": 10,
   "id": "5a8ba716-6b4c-4b32-b7b4-89d755e2be7a",
   "metadata": {},
   "outputs": [
    {
     "data": {
      "text/plain": [
       "array([[False,  True, False,  True],\n",
       "       [ True,  True, False, False],\n",
       "       [ True, False, False,  True],\n",
       "       [ True,  True, False,  True]])"
      ]
     },
     "execution_count": 10,
     "metadata": {},
     "output_type": "execute_result"
    }
   ],
   "source": [
    "test_score > 60"
   ]
  },
  {
   "cell_type": "code",
   "execution_count": 11,
   "id": "5b59461e-ab96-47fc-8968-72b951fbe447",
   "metadata": {},
   "outputs": [],
   "source": [
    "test_score[test_score>60] =1"
   ]
  },
  {
   "cell_type": "code",
   "execution_count": 12,
   "id": "e6019eff-1618-49a7-9783-43abdcc5a6eb",
   "metadata": {},
   "outputs": [
    {
     "data": {
      "text/plain": [
       "array([[60,  1, 41,  1],\n",
       "       [ 1,  1, 41, 46],\n",
       "       [ 1, 46, 54,  1],\n",
       "       [ 1,  1, 41,  1]], dtype=int32)"
      ]
     },
     "execution_count": 12,
     "metadata": {},
     "output_type": "execute_result"
    }
   ],
   "source": [
    "test_score"
   ]
  },
  {
   "cell_type": "markdown",
   "id": "7e174654-6cbf-4384-874e-e72519e4af18",
   "metadata": {},
   "source": [
    "## 通用判断函数"
   ]
  },
  {
   "cell_type": "code",
   "execution_count": 27,
   "id": "1d0bbd28-3266-42b8-b1f1-a080b1d2c584",
   "metadata": {},
   "outputs": [
    {
     "data": {
      "text/plain": [
       "np.False_"
      ]
     },
     "execution_count": 27,
     "metadata": {},
     "output_type": "execute_result"
    }
   ],
   "source": [
    "np.all(score[0:2,]>80)"
   ]
  },
  {
   "cell_type": "code",
   "execution_count": 29,
   "id": "97e500e8-db0e-43d5-83ad-9804d4b560e3",
   "metadata": {},
   "outputs": [
    {
     "data": {
      "text/plain": [
       "np.True_"
      ]
     },
     "execution_count": 29,
     "metadata": {},
     "output_type": "execute_result"
    }
   ],
   "source": [
    "np.any(score[0:2,]>80)"
   ]
  },
  {
   "cell_type": "markdown",
   "id": "d294a7a0-3ab8-4003-a79a-c6c9c158841f",
   "metadata": {},
   "source": [
    "## np.where（三元运算符）"
   ]
  },
  {
   "cell_type": "code",
   "execution_count": 32,
   "id": "28c5887f-c375-4a5a-9e49-e0e496bc8a37",
   "metadata": {},
   "outputs": [
    {
     "data": {
      "text/plain": [
       "array([[88, 57, 74, 57],\n",
       "       [59, 85, 76, 51],\n",
       "       [98, 96, 79, 96],\n",
       "       [88, 46, 92, 56]], dtype=int32)"
      ]
     },
     "execution_count": 32,
     "metadata": {},
     "output_type": "execute_result"
    }
   ],
   "source": [
    "temp=score[:4,:4]\n",
    "temp"
   ]
  },
  {
   "cell_type": "code",
   "execution_count": 33,
   "id": "77d28ff9-92ac-4ba6-bd6f-ac2f68c971dc",
   "metadata": {},
   "outputs": [
    {
     "data": {
      "text/plain": [
       "array([[1, 0, 1, 0],\n",
       "       [0, 1, 1, 0],\n",
       "       [1, 1, 1, 1],\n",
       "       [1, 0, 1, 0]])"
      ]
     },
     "execution_count": 33,
     "metadata": {},
     "output_type": "execute_result"
    }
   ],
   "source": [
    "np.where(temp>60,1,0)"
   ]
  },
  {
   "cell_type": "code",
   "execution_count": 38,
   "id": "0f1d6ac3-ac87-48cd-948f-b72477010437",
   "metadata": {},
   "outputs": [
    {
     "data": {
      "text/plain": [
       "array([[1, 0, 1, 0],\n",
       "       [0, 1, 1, 0],\n",
       "       [0, 0, 1, 0],\n",
       "       [1, 0, 0, 0]])"
      ]
     },
     "execution_count": 38,
     "metadata": {},
     "output_type": "execute_result"
    }
   ],
   "source": [
    "np.where(np.logical_and(temp>60,temp<90),1,0)"
   ]
  },
  {
   "cell_type": "code",
   "execution_count": 39,
   "id": "224a43d3-d4f9-4cb1-9da6-51a3f432df32",
   "metadata": {},
   "outputs": [
    {
     "data": {
      "text/plain": [
       "array([[0, 1, 0, 1],\n",
       "       [1, 0, 0, 1],\n",
       "       [1, 1, 0, 1],\n",
       "       [0, 1, 1, 1]])"
      ]
     },
     "execution_count": 39,
     "metadata": {},
     "output_type": "execute_result"
    }
   ],
   "source": [
    "np.where(np.logical_or(temp>90,temp<60),1,0)"
   ]
  },
  {
   "cell_type": "markdown",
   "id": "a89f05a0-ecff-49c0-ae73-d0e0ddef6c01",
   "metadata": {},
   "source": [
    "# 统计指标"
   ]
  },
  {
   "cell_type": "code",
   "execution_count": null,
   "id": "a53922a2-e183-49eb-bb52-6d5aa363d8fb",
   "metadata": {},
   "outputs": [],
   "source": [
    "## axis=0 按列 axis = 1 按行"
   ]
  },
  {
   "cell_type": "code",
   "execution_count": 40,
   "id": "4e8217f2-cb49-43ae-86d2-a0597b84480d",
   "metadata": {},
   "outputs": [
    {
     "data": {
      "text/plain": [
       "array([[88, 57, 74, 57, 54],\n",
       "       [59, 85, 76, 51, 88],\n",
       "       [98, 96, 79, 96, 89],\n",
       "       [88, 46, 92, 56, 76],\n",
       "       [72, 82, 68, 65, 61],\n",
       "       [86, 93, 53, 89, 64],\n",
       "       [60,  1, 41,  1, 53],\n",
       "       [ 1,  1, 41, 46, 44],\n",
       "       [ 1, 46, 54,  1, 84],\n",
       "       [ 1,  1, 41,  1, 52]], dtype=int32)"
      ]
     },
     "execution_count": 40,
     "metadata": {},
     "output_type": "execute_result"
    }
   ],
   "source": [
    "score"
   ]
  },
  {
   "cell_type": "code",
   "execution_count": 42,
   "id": "3a5f8c3d-0bae-4833-8bf2-0ae35cfdd4e3",
   "metadata": {},
   "outputs": [
    {
     "data": {
      "text/plain": [
       "array([[88, 57, 74, 57, 54],\n",
       "       [59, 85, 76, 51, 88],\n",
       "       [98, 96, 79, 96, 89],\n",
       "       [88, 46, 92, 56, 76],\n",
       "       [72, 82, 68, 65, 61],\n",
       "       [86, 93, 53, 89, 64]], dtype=int32)"
      ]
     },
     "execution_count": 42,
     "metadata": {},
     "output_type": "execute_result"
    }
   ],
   "source": [
    "temp = score[:6,]\n",
    "temp"
   ]
  },
  {
   "cell_type": "code",
   "execution_count": 43,
   "id": "5f79087e-acc1-48db-9d5d-0d86fa38765f",
   "metadata": {},
   "outputs": [
    {
     "data": {
      "text/plain": [
       "np.int32(98)"
      ]
     },
     "execution_count": 43,
     "metadata": {},
     "output_type": "execute_result"
    }
   ],
   "source": [
    "np.max(temp)"
   ]
  },
  {
   "cell_type": "code",
   "execution_count": 44,
   "id": "5f987e2d-b77d-4443-b641-9558a51e984a",
   "metadata": {},
   "outputs": [
    {
     "data": {
      "text/plain": [
       "np.int32(46)"
      ]
     },
     "execution_count": 44,
     "metadata": {},
     "output_type": "execute_result"
    }
   ],
   "source": [
    "np.min(temp)"
   ]
  },
  {
   "cell_type": "code",
   "execution_count": 45,
   "id": "4371d0c9-d5d3-4086-9a93-cf176256c385",
   "metadata": {},
   "outputs": [
    {
     "data": {
      "text/plain": [
       "np.float64(74.6)"
      ]
     },
     "execution_count": 45,
     "metadata": {},
     "output_type": "execute_result"
    }
   ],
   "source": [
    "np.mean(temp)"
   ]
  },
  {
   "cell_type": "code",
   "execution_count": 50,
   "id": "0189e0a8-9274-47de-bc4a-953a214c2335",
   "metadata": {},
   "outputs": [
    {
     "data": {
      "text/plain": [
       "array([57., 76., 96., 76., 68., 86.])"
      ]
     },
     "execution_count": 50,
     "metadata": {},
     "output_type": "execute_result"
    }
   ],
   "source": [
    "np.median(temp,axis=1)"
   ]
  },
  {
   "cell_type": "code",
   "execution_count": 46,
   "id": "921bdea1-44b2-490c-8756-6ff5dcb510bf",
   "metadata": {},
   "outputs": [
    {
     "data": {
      "text/plain": [
       "array([98, 96, 92, 96, 89], dtype=int32)"
      ]
     },
     "execution_count": 46,
     "metadata": {},
     "output_type": "execute_result"
    }
   ],
   "source": [
    "np.max(temp,axis=0)"
   ]
  },
  {
   "cell_type": "code",
   "execution_count": 47,
   "id": "0c0c47c6-1572-4595-8189-b9777f48bf53",
   "metadata": {},
   "outputs": [
    {
     "data": {
      "text/plain": [
       "array([88, 88, 98, 92, 82, 93], dtype=int32)"
      ]
     },
     "execution_count": 47,
     "metadata": {},
     "output_type": "execute_result"
    }
   ],
   "source": [
    "np.max(temp,axis=1)"
   ]
  },
  {
   "cell_type": "code",
   "execution_count": 51,
   "id": "45323429-e837-4f4f-9082-822069ee50bb",
   "metadata": {},
   "outputs": [
    {
     "data": {
      "text/plain": [
       "np.int64(10)"
      ]
     },
     "execution_count": 51,
     "metadata": {},
     "output_type": "execute_result"
    }
   ],
   "source": [
    "np.argmax(temp)"
   ]
  },
  {
   "cell_type": "code",
   "execution_count": 52,
   "id": "4aad2840-4462-4293-9d4a-51934795b3fe",
   "metadata": {},
   "outputs": [
    {
     "data": {
      "text/plain": [
       "array([2, 2, 3, 2, 2])"
      ]
     },
     "execution_count": 52,
     "metadata": {},
     "output_type": "execute_result"
    }
   ],
   "source": [
    "np.argmax(temp,axis=0)"
   ]
  },
  {
   "cell_type": "code",
   "execution_count": 53,
   "id": "ff0f53d2-cdbf-42f4-934a-7217f597a82a",
   "metadata": {},
   "outputs": [
    {
     "data": {
      "text/plain": [
       "np.int64(16)"
      ]
     },
     "execution_count": 53,
     "metadata": {},
     "output_type": "execute_result"
    }
   ],
   "source": [
    "np.argmin(temp)"
   ]
  },
  {
   "cell_type": "code",
   "execution_count": 54,
   "id": "fea8fc42-2be3-4c5c-acbb-ce372ef158e2",
   "metadata": {},
   "outputs": [
    {
     "data": {
      "text/plain": [
       "array([1, 3, 5, 1, 0])"
      ]
     },
     "execution_count": 54,
     "metadata": {},
     "output_type": "execute_result"
    }
   ],
   "source": [
    "np.argmin(temp,axis=0)"
   ]
  },
  {
   "cell_type": "code",
   "execution_count": 55,
   "id": "70940902-4581-47ba-bd67-4ab3c17190d0",
   "metadata": {},
   "outputs": [
    {
     "data": {
      "text/plain": [
       "np.float64(15.58760191092053)"
      ]
     },
     "execution_count": 55,
     "metadata": {},
     "output_type": "execute_result"
    }
   ],
   "source": [
    "np.std(temp)"
   ]
  },
  {
   "cell_type": "code",
   "execution_count": 56,
   "id": "7e0cdf65-2db1-443d-b389-42cdeee74707",
   "metadata": {},
   "outputs": [
    {
     "data": {
      "text/plain": [
       "np.float64(242.97333333333336)"
      ]
     },
     "execution_count": 56,
     "metadata": {},
     "output_type": "execute_result"
    }
   ],
   "source": [
    "np.var(temp)"
   ]
  },
  {
   "cell_type": "markdown",
   "id": "f98b8570-49c4-490c-ab50-583864af9b19",
   "metadata": {},
   "source": [
    "# 数组间的运算"
   ]
  },
  {
   "cell_type": "code",
   "execution_count": 58,
   "id": "14db3cec-9bfe-474d-b3a8-cf8d3ffd24ee",
   "metadata": {},
   "outputs": [],
   "source": [
    "arr = np.array([[1,2,3],[3,4,5]])"
   ]
  },
  {
   "cell_type": "code",
   "execution_count": 59,
   "id": "04426843-8e1d-4c80-a62a-3f5f884e5c9f",
   "metadata": {},
   "outputs": [
    {
     "data": {
      "text/plain": [
       "array([[1, 2, 3],\n",
       "       [3, 4, 5]])"
      ]
     },
     "execution_count": 59,
     "metadata": {},
     "output_type": "execute_result"
    }
   ],
   "source": [
    "arr"
   ]
  },
  {
   "cell_type": "code",
   "execution_count": 63,
   "id": "0ca44afd-8204-4231-b095-a63f5f121ee9",
   "metadata": {},
   "outputs": [
    {
     "data": {
      "text/plain": [
       "array([[4, 5, 6],\n",
       "       [6, 7, 8]])"
      ]
     },
     "execution_count": 63,
     "metadata": {},
     "output_type": "execute_result"
    }
   ],
   "source": [
    "arr+3"
   ]
  },
  {
   "cell_type": "code",
   "execution_count": 64,
   "id": "4c102a5a-e005-4ec6-9bee-8b8a4896c5ff",
   "metadata": {},
   "outputs": [
    {
     "data": {
      "text/plain": [
       "array([[0.33333333, 0.66666667, 1.        ],\n",
       "       [1.        , 1.33333333, 1.66666667]])"
      ]
     },
     "execution_count": 64,
     "metadata": {},
     "output_type": "execute_result"
    }
   ],
   "source": [
    "arr/3"
   ]
  },
  {
   "cell_type": "code",
   "execution_count": 66,
   "id": "c5af08dd-bdb3-4215-8bfa-77190aeca1ea",
   "metadata": {},
   "outputs": [
    {
     "data": {
      "text/plain": [
       "array([[ 3,  6,  9],\n",
       "       [ 9, 12, 15]])"
      ]
     },
     "execution_count": 66,
     "metadata": {},
     "output_type": "execute_result"
    }
   ],
   "source": [
    "arr*3"
   ]
  },
  {
   "cell_type": "code",
   "execution_count": 67,
   "id": "a9b5c644-4371-4d40-a29a-3a26be24c14b",
   "metadata": {},
   "outputs": [],
   "source": [
    "a = [1,2,3]"
   ]
  },
  {
   "cell_type": "code",
   "execution_count": 68,
   "id": "98720768-6ed2-4da1-8d8e-609253f5a85b",
   "metadata": {},
   "outputs": [
    {
     "data": {
      "text/plain": [
       "[1, 2, 3, 1, 2, 3, 1, 2, 3]"
      ]
     },
     "execution_count": 68,
     "metadata": {},
     "output_type": "execute_result"
    }
   ],
   "source": [
    "a*3"
   ]
  },
  {
   "cell_type": "code",
   "execution_count": 69,
   "id": "2af9a2bd-7cc6-4fc0-8c7e-b2db552a7dd5",
   "metadata": {},
   "outputs": [],
   "source": [
    "arr1 = np.array([[1, 2, 3, 2, 1, 4], [5, 6, 1, 2, 3, 1]])\n",
    "arr2 = np.array([[1, 2, 3, 4], [3, 4, 5, 6]])"
   ]
  },
  {
   "cell_type": "code",
   "execution_count": 70,
   "id": "c1805943-4943-4e73-b8f1-e08ef36f3c32",
   "metadata": {},
   "outputs": [],
   "source": [
    "# arr1 + arr2 # 不可以进行计算"
   ]
  },
  {
   "cell_type": "code",
   "execution_count": 112,
   "id": "79133741-d4cc-4952-a695-79e5569e340d",
   "metadata": {},
   "outputs": [],
   "source": [
    "arr1 = np.array([[1, 2, 3, 2, 1, 4], [5, 6, 1, 2, 3, 1]])\n",
    "arr2 = np.array([[1],[2]])\n"
   ]
  },
  {
   "cell_type": "code",
   "execution_count": 113,
   "id": "78b28a98-85c9-45ac-88bf-bc056fe59b6a",
   "metadata": {},
   "outputs": [
    {
     "data": {
      "text/plain": [
       "(2, 6)"
      ]
     },
     "execution_count": 113,
     "metadata": {},
     "output_type": "execute_result"
    }
   ],
   "source": [
    "arr1.shape"
   ]
  },
  {
   "cell_type": "code",
   "execution_count": 114,
   "id": "1ab8ba5c-8a6a-4c2a-8748-24ab29e9da4f",
   "metadata": {},
   "outputs": [
    {
     "data": {
      "text/plain": [
       "(2, 1)"
      ]
     },
     "execution_count": 114,
     "metadata": {},
     "output_type": "execute_result"
    }
   ],
   "source": [
    "arr2.shape"
   ]
  },
  {
   "cell_type": "code",
   "execution_count": 115,
   "id": "de0709dd-5918-46c6-b4d2-abe710b921a3",
   "metadata": {},
   "outputs": [
    {
     "data": {
      "text/plain": [
       "array([[2, 3, 4, 3, 2, 5],\n",
       "       [7, 8, 3, 4, 5, 3]])"
      ]
     },
     "execution_count": 115,
     "metadata": {},
     "output_type": "execute_result"
    }
   ],
   "source": [
    "arr2+arr1"
   ]
  },
  {
   "cell_type": "markdown",
   "id": "5d03c6ca-0d38-4b05-94e5-521c93c004d3",
   "metadata": {},
   "source": [
    "# 矩阵运算"
   ]
  },
  {
   "cell_type": "code",
   "execution_count": null,
   "id": "5a82d19a-3588-4145-8f78-6b9d9a64565a",
   "metadata": {},
   "outputs": [],
   "source": [
    "## np.matmul np.dot"
   ]
  },
  {
   "cell_type": "code",
   "execution_count": 118,
   "id": "7585c8ff-82bb-4029-a1cd-1a4b321eb859",
   "metadata": {},
   "outputs": [],
   "source": [
    "a = np.array([[80, 86],\n",
    "[82, 80],\n",
    "[85, 78],\n",
    "[90, 90],\n",
    "[86, 82],\n",
    "[82, 90],\n",
    "[78, 80],\n",
    "[92, 94]])"
   ]
  },
  {
   "cell_type": "code",
   "execution_count": 119,
   "id": "5c339ec2-0376-4a93-baf1-400409e594b0",
   "metadata": {},
   "outputs": [
    {
     "data": {
      "text/plain": [
       "array([[80, 86],\n",
       "       [82, 80],\n",
       "       [85, 78],\n",
       "       [90, 90],\n",
       "       [86, 82],\n",
       "       [82, 90],\n",
       "       [78, 80],\n",
       "       [92, 94]])"
      ]
     },
     "execution_count": 119,
     "metadata": {},
     "output_type": "execute_result"
    }
   ],
   "source": [
    "a"
   ]
  },
  {
   "cell_type": "code",
   "execution_count": 120,
   "id": "a0fa7864-af64-479c-839f-428558035c83",
   "metadata": {},
   "outputs": [],
   "source": [
    "b = np.array([[0.7], [0.3]])"
   ]
  },
  {
   "cell_type": "code",
   "execution_count": 121,
   "id": "862dbaf2-33e6-43ff-934f-88ee9cfc51db",
   "metadata": {},
   "outputs": [
    {
     "data": {
      "text/plain": [
       "array([[0.7],\n",
       "       [0.3]])"
      ]
     },
     "execution_count": 121,
     "metadata": {},
     "output_type": "execute_result"
    }
   ],
   "source": [
    "b"
   ]
  },
  {
   "cell_type": "code",
   "execution_count": 122,
   "id": "e55e1f5e-517a-4312-b04c-c4a9c10bbbf9",
   "metadata": {},
   "outputs": [
    {
     "data": {
      "text/plain": [
       "array([[81.8],\n",
       "       [81.4],\n",
       "       [82.9],\n",
       "       [90. ],\n",
       "       [84.8],\n",
       "       [84.4],\n",
       "       [78.6],\n",
       "       [92.6]])"
      ]
     },
     "execution_count": 122,
     "metadata": {},
     "output_type": "execute_result"
    }
   ],
   "source": [
    "np.dot(a,b)"
   ]
  },
  {
   "cell_type": "code",
   "execution_count": 123,
   "id": "a83af2d9-4f35-4a53-ba68-90ed1a9defca",
   "metadata": {},
   "outputs": [
    {
     "data": {
      "text/plain": [
       "array([[81.8],\n",
       "       [81.4],\n",
       "       [82.9],\n",
       "       [90. ],\n",
       "       [84.8],\n",
       "       [84.4],\n",
       "       [78.6],\n",
       "       [92.6]])"
      ]
     },
     "execution_count": 123,
     "metadata": {},
     "output_type": "execute_result"
    }
   ],
   "source": [
    "np.matmul(a,b)"
   ]
  },
  {
   "cell_type": "code",
   "execution_count": 124,
   "id": "26ca5cdc-811b-4ca4-933e-1c3784d8f8c9",
   "metadata": {},
   "outputs": [
    {
     "data": {
      "text/plain": [
       "array([[800, 860],\n",
       "       [820, 800],\n",
       "       [850, 780],\n",
       "       [900, 900],\n",
       "       [860, 820],\n",
       "       [820, 900],\n",
       "       [780, 800],\n",
       "       [920, 940]])"
      ]
     },
     "execution_count": 124,
     "metadata": {},
     "output_type": "execute_result"
    }
   ],
   "source": [
    "np.dot(a,10)"
   ]
  },
  {
   "cell_type": "code",
   "execution_count": null,
   "id": "3c2a508e-c1d0-43c7-8655-018f065bd2ec",
   "metadata": {},
   "outputs": [],
   "source": [
    "# np.matmul(a,10)"
   ]
  }
 ],
 "metadata": {
  "kernelspec": {
   "display_name": "Python 3 (ipykernel)",
   "language": "python",
   "name": "python3"
  },
  "language_info": {
   "codemirror_mode": {
    "name": "ipython",
    "version": 3
   },
   "file_extension": ".py",
   "mimetype": "text/x-python",
   "name": "python",
   "nbconvert_exporter": "python",
   "pygments_lexer": "ipython3",
   "version": "3.12.6"
  }
 },
 "nbformat": 4,
 "nbformat_minor": 5
}
