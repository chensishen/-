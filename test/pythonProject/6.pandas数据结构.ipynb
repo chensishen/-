{
 "cells": [
  {
   "cell_type": "code",
   "execution_count": 1,
   "id": "dcfe48b6-52e0-43ed-a356-5aa59fcb1e95",
   "metadata": {},
   "outputs": [],
   "source": [
    "import pandas as pd\n",
    "import numpy as np"
   ]
  },
  {
   "cell_type": "markdown",
   "id": "7060d64a-5c6b-4749-9b4c-3abe18cdf4b8",
   "metadata": {},
   "source": [
    "# series\n",
    "## series的创建 pd.Series(date = None,index=None,dtype=None)"
   ]
  },
  {
   "cell_type": "code",
   "execution_count": 2,
   "id": "f5a5b6a9-1ae1-416a-8f9a-6d0735928250",
   "metadata": {},
   "outputs": [
    {
     "data": {
      "text/plain": [
       "0    0\n",
       "1    1\n",
       "2    2\n",
       "3    3\n",
       "4    4\n",
       "5    5\n",
       "6    6\n",
       "7    7\n",
       "8    8\n",
       "dtype: int64"
      ]
     },
     "execution_count": 2,
     "metadata": {},
     "output_type": "execute_result"
    }
   ],
   "source": [
    "pd.Series(np.arange(9))"
   ]
  },
  {
   "cell_type": "code",
   "execution_count": 3,
   "id": "0b9772f3-7c52-4c5f-b38a-5467b17741f8",
   "metadata": {},
   "outputs": [
    {
     "data": {
      "text/plain": [
       "1    1.2\n",
       "2    2.5\n",
       "3    4.5\n",
       "4    5.0\n",
       "dtype: float64"
      ]
     },
     "execution_count": 3,
     "metadata": {},
     "output_type": "execute_result"
    }
   ],
   "source": [
    "pd.Series([1.2,2.5,4.5,5.0],index=[1,2,3,4])"
   ]
  },
  {
   "cell_type": "code",
   "execution_count": 4,
   "id": "262d51a8-4ae0-4d62-9ba0-30c35b8122c7",
   "metadata": {},
   "outputs": [],
   "source": [
    "color_count = pd.Series({\"red\":10,\"green\":20,\"blue\":100})"
   ]
  },
  {
   "cell_type": "markdown",
   "id": "45da2678-23cc-4954-b2ed-42fb79fadc50",
   "metadata": {},
   "source": [
    "## series的属性"
   ]
  },
  {
   "cell_type": "code",
   "execution_count": 5,
   "id": "1717c890-f3cf-4e25-bcad-c61ea3846f6a",
   "metadata": {},
   "outputs": [],
   "source": [
    "#ser.iloc[pos]"
   ]
  },
  {
   "cell_type": "code",
   "execution_count": 6,
   "id": "c2fe3ab1-cc2a-4c45-b140-e8841572abf8",
   "metadata": {},
   "outputs": [
    {
     "data": {
      "text/plain": [
       "Index(['red', 'green', 'blue'], dtype='object')"
      ]
     },
     "execution_count": 6,
     "metadata": {},
     "output_type": "execute_result"
    }
   ],
   "source": [
    "color_count.index"
   ]
  },
  {
   "cell_type": "code",
   "execution_count": 7,
   "id": "0890ceb1-b5b3-4c8c-ac47-8f0da24c1550",
   "metadata": {},
   "outputs": [
    {
     "data": {
      "text/plain": [
       "array([ 10,  20, 100])"
      ]
     },
     "execution_count": 7,
     "metadata": {},
     "output_type": "execute_result"
    }
   ],
   "source": [
    "color_count.values"
   ]
  },
  {
   "cell_type": "markdown",
   "id": "2d6fa552-8b06-472f-b16f-e71e52030eb7",
   "metadata": {},
   "source": [
    "color_count[0]"
   ]
  },
  {
   "cell_type": "code",
   "execution_count": 8,
   "id": "a4a9016e-8c4e-4992-b120-5ae24c126f4b",
   "metadata": {},
   "outputs": [
    {
     "name": "stderr",
     "output_type": "stream",
     "text": [
      "C:\\Users\\91168\\AppData\\Local\\Temp\\ipykernel_5756\\586664262.py:1: FutureWarning: Series.__getitem__ treating keys as positions is deprecated. In a future version, integer keys will always be treated as labels (consistent with DataFrame behavior). To access a value by position, use `ser.iloc[pos]`\n",
      "  color_count[1]\n"
     ]
    },
    {
     "data": {
      "text/plain": [
       "np.int64(20)"
      ]
     },
     "execution_count": 8,
     "metadata": {},
     "output_type": "execute_result"
    }
   ],
   "source": [
    "color_count[1]\n"
   ]
  },
  {
   "cell_type": "code",
   "execution_count": 9,
   "id": "2e737016-bf73-41a8-85f5-1ed99672dd7d",
   "metadata": {},
   "outputs": [
    {
     "data": {
      "text/plain": [
       "np.int64(10)"
      ]
     },
     "execution_count": 9,
     "metadata": {},
     "output_type": "execute_result"
    }
   ],
   "source": [
    "color_count.iloc[0]"
   ]
  },
  {
   "cell_type": "markdown",
   "id": "5cc1afca-4c62-4cc9-b278-ade3c5f15fca",
   "metadata": {},
   "source": [
    "# DataFrame\n",
    "## DataFrame创建"
   ]
  },
  {
   "cell_type": "code",
   "execution_count": 10,
   "id": "e240b10d-1223-4d59-a247-5a1eb3d8ee92",
   "metadata": {},
   "outputs": [
    {
     "data": {
      "text/html": [
       "<div>\n",
       "<style scoped>\n",
       "    .dataframe tbody tr th:only-of-type {\n",
       "        vertical-align: middle;\n",
       "    }\n",
       "\n",
       "    .dataframe tbody tr th {\n",
       "        vertical-align: top;\n",
       "    }\n",
       "\n",
       "    .dataframe thead th {\n",
       "        text-align: right;\n",
       "    }\n",
       "</style>\n",
       "<table border=\"1\" class=\"dataframe\">\n",
       "  <thead>\n",
       "    <tr style=\"text-align: right;\">\n",
       "      <th></th>\n",
       "      <th>0</th>\n",
       "      <th>1</th>\n",
       "      <th>2</th>\n",
       "    </tr>\n",
       "  </thead>\n",
       "  <tbody>\n",
       "    <tr>\n",
       "      <th>0</th>\n",
       "      <td>-1.504846</td>\n",
       "      <td>0.620910</td>\n",
       "      <td>-1.154003</td>\n",
       "    </tr>\n",
       "    <tr>\n",
       "      <th>1</th>\n",
       "      <td>1.900675</td>\n",
       "      <td>0.328838</td>\n",
       "      <td>-1.443917</td>\n",
       "    </tr>\n",
       "  </tbody>\n",
       "</table>\n",
       "</div>"
      ],
      "text/plain": [
       "          0         1         2\n",
       "0 -1.504846  0.620910 -1.154003\n",
       "1  1.900675  0.328838 -1.443917"
      ]
     },
     "execution_count": 10,
     "metadata": {},
     "output_type": "execute_result"
    }
   ],
   "source": [
    "pd.DataFrame(np.random.randn(2,3))"
   ]
  },
  {
   "cell_type": "code",
   "execution_count": 11,
   "id": "ee79991c-d929-4043-bf62-15eb1a61bb64",
   "metadata": {},
   "outputs": [],
   "source": [
    "score = np.random.randint(40,100,(10,5))"
   ]
  },
  {
   "cell_type": "code",
   "execution_count": 12,
   "id": "c7166ebf-f4a8-4963-b5e9-312585b10808",
   "metadata": {},
   "outputs": [
    {
     "data": {
      "text/plain": [
       "array([[62, 44, 89, 47, 82],\n",
       "       [98, 61, 67, 79, 93],\n",
       "       [50, 67, 85, 81, 77],\n",
       "       [76, 45, 50, 43, 48],\n",
       "       [64, 63, 64, 99, 67],\n",
       "       [93, 41, 77, 98, 57],\n",
       "       [64, 85, 55, 61, 53],\n",
       "       [69, 70, 90, 64, 47],\n",
       "       [65, 87, 46, 86, 56],\n",
       "       [63, 73, 75, 49, 55]], dtype=int32)"
      ]
     },
     "execution_count": 12,
     "metadata": {},
     "output_type": "execute_result"
    }
   ],
   "source": [
    "score"
   ]
  },
  {
   "cell_type": "code",
   "execution_count": 13,
   "id": "d57a643f-4cd9-4a57-9b3d-c9a57f413ae2",
   "metadata": {},
   "outputs": [],
   "source": [
    "score_df = pd.DataFrame(score)"
   ]
  },
  {
   "cell_type": "code",
   "execution_count": 14,
   "id": "1e83cdf1-a2a8-4c24-a68c-ed352ea04984",
   "metadata": {},
   "outputs": [],
   "source": [
    "subjects = [\"语文\", \"数学\", \"英语\", \"政治\", \"体育\"]\n",
    "\n",
    "stu = [\"同学\"+ str(i) for i in range(score_df.shape[0])]\n",
    "\n",
    "data = pd.DataFrame(score, columns=subjects, index=stu)"
   ]
  },
  {
   "cell_type": "code",
   "execution_count": 15,
   "id": "344a977d-aece-44fc-b897-242650c20e50",
   "metadata": {},
   "outputs": [
    {
     "data": {
      "text/html": [
       "<div>\n",
       "<style scoped>\n",
       "    .dataframe tbody tr th:only-of-type {\n",
       "        vertical-align: middle;\n",
       "    }\n",
       "\n",
       "    .dataframe tbody tr th {\n",
       "        vertical-align: top;\n",
       "    }\n",
       "\n",
       "    .dataframe thead th {\n",
       "        text-align: right;\n",
       "    }\n",
       "</style>\n",
       "<table border=\"1\" class=\"dataframe\">\n",
       "  <thead>\n",
       "    <tr style=\"text-align: right;\">\n",
       "      <th></th>\n",
       "      <th>语文</th>\n",
       "      <th>数学</th>\n",
       "      <th>英语</th>\n",
       "      <th>政治</th>\n",
       "      <th>体育</th>\n",
       "    </tr>\n",
       "  </thead>\n",
       "  <tbody>\n",
       "    <tr>\n",
       "      <th>同学0</th>\n",
       "      <td>62</td>\n",
       "      <td>44</td>\n",
       "      <td>89</td>\n",
       "      <td>47</td>\n",
       "      <td>82</td>\n",
       "    </tr>\n",
       "    <tr>\n",
       "      <th>同学1</th>\n",
       "      <td>98</td>\n",
       "      <td>61</td>\n",
       "      <td>67</td>\n",
       "      <td>79</td>\n",
       "      <td>93</td>\n",
       "    </tr>\n",
       "    <tr>\n",
       "      <th>同学2</th>\n",
       "      <td>50</td>\n",
       "      <td>67</td>\n",
       "      <td>85</td>\n",
       "      <td>81</td>\n",
       "      <td>77</td>\n",
       "    </tr>\n",
       "    <tr>\n",
       "      <th>同学3</th>\n",
       "      <td>76</td>\n",
       "      <td>45</td>\n",
       "      <td>50</td>\n",
       "      <td>43</td>\n",
       "      <td>48</td>\n",
       "    </tr>\n",
       "    <tr>\n",
       "      <th>同学4</th>\n",
       "      <td>64</td>\n",
       "      <td>63</td>\n",
       "      <td>64</td>\n",
       "      <td>99</td>\n",
       "      <td>67</td>\n",
       "    </tr>\n",
       "    <tr>\n",
       "      <th>同学5</th>\n",
       "      <td>93</td>\n",
       "      <td>41</td>\n",
       "      <td>77</td>\n",
       "      <td>98</td>\n",
       "      <td>57</td>\n",
       "    </tr>\n",
       "    <tr>\n",
       "      <th>同学6</th>\n",
       "      <td>64</td>\n",
       "      <td>85</td>\n",
       "      <td>55</td>\n",
       "      <td>61</td>\n",
       "      <td>53</td>\n",
       "    </tr>\n",
       "    <tr>\n",
       "      <th>同学7</th>\n",
       "      <td>69</td>\n",
       "      <td>70</td>\n",
       "      <td>90</td>\n",
       "      <td>64</td>\n",
       "      <td>47</td>\n",
       "    </tr>\n",
       "    <tr>\n",
       "      <th>同学8</th>\n",
       "      <td>65</td>\n",
       "      <td>87</td>\n",
       "      <td>46</td>\n",
       "      <td>86</td>\n",
       "      <td>56</td>\n",
       "    </tr>\n",
       "    <tr>\n",
       "      <th>同学9</th>\n",
       "      <td>63</td>\n",
       "      <td>73</td>\n",
       "      <td>75</td>\n",
       "      <td>49</td>\n",
       "      <td>55</td>\n",
       "    </tr>\n",
       "  </tbody>\n",
       "</table>\n",
       "</div>"
      ],
      "text/plain": [
       "     语文  数学  英语  政治  体育\n",
       "同学0  62  44  89  47  82\n",
       "同学1  98  61  67  79  93\n",
       "同学2  50  67  85  81  77\n",
       "同学3  76  45  50  43  48\n",
       "同学4  64  63  64  99  67\n",
       "同学5  93  41  77  98  57\n",
       "同学6  64  85  55  61  53\n",
       "同学7  69  70  90  64  47\n",
       "同学8  65  87  46  86  56\n",
       "同学9  63  73  75  49  55"
      ]
     },
     "execution_count": 15,
     "metadata": {},
     "output_type": "execute_result"
    }
   ],
   "source": [
    "data"
   ]
  },
  {
   "cell_type": "code",
   "execution_count": 16,
   "id": "1baa01a9-4d27-4f40-b8be-e4bea346e38d",
   "metadata": {},
   "outputs": [
    {
     "data": {
      "text/plain": [
       "10"
      ]
     },
     "execution_count": 16,
     "metadata": {},
     "output_type": "execute_result"
    }
   ],
   "source": [
    "score_df.shape[0]"
   ]
  },
  {
   "cell_type": "markdown",
   "id": "a1ca1e3f-d142-4c0f-afd2-36c97675c555",
   "metadata": {},
   "source": [
    "## DataFrame的属性"
   ]
  },
  {
   "cell_type": "code",
   "execution_count": 17,
   "id": "e62de242-c1d4-4783-91b8-0c90e08c2842",
   "metadata": {},
   "outputs": [
    {
     "data": {
      "text/plain": [
       "(10, 5)"
      ]
     },
     "execution_count": 17,
     "metadata": {},
     "output_type": "execute_result"
    }
   ],
   "source": [
    "data.shape"
   ]
  },
  {
   "cell_type": "code",
   "execution_count": 18,
   "id": "67511d63-183a-49d7-b5bc-4459a318576a",
   "metadata": {},
   "outputs": [
    {
     "data": {
      "text/plain": [
       "Index(['同学0', '同学1', '同学2', '同学3', '同学4', '同学5', '同学6', '同学7', '同学8', '同学9'], dtype='object')"
      ]
     },
     "execution_count": 18,
     "metadata": {},
     "output_type": "execute_result"
    }
   ],
   "source": [
    "data.index"
   ]
  },
  {
   "cell_type": "code",
   "execution_count": 19,
   "id": "c5140405-ab7f-4181-ad4d-c98fe3a03700",
   "metadata": {},
   "outputs": [
    {
     "data": {
      "text/plain": [
       "Index(['语文', '数学', '英语', '政治', '体育'], dtype='object')"
      ]
     },
     "execution_count": 19,
     "metadata": {},
     "output_type": "execute_result"
    }
   ],
   "source": [
    "data.columns"
   ]
  },
  {
   "cell_type": "code",
   "execution_count": 20,
   "id": "7b379f42-ed89-48d4-9e68-1d91e0040c4e",
   "metadata": {},
   "outputs": [
    {
     "data": {
      "text/html": [
       "<div>\n",
       "<style scoped>\n",
       "    .dataframe tbody tr th:only-of-type {\n",
       "        vertical-align: middle;\n",
       "    }\n",
       "\n",
       "    .dataframe tbody tr th {\n",
       "        vertical-align: top;\n",
       "    }\n",
       "\n",
       "    .dataframe thead th {\n",
       "        text-align: right;\n",
       "    }\n",
       "</style>\n",
       "<table border=\"1\" class=\"dataframe\">\n",
       "  <thead>\n",
       "    <tr style=\"text-align: right;\">\n",
       "      <th></th>\n",
       "      <th>同学0</th>\n",
       "      <th>同学1</th>\n",
       "      <th>同学2</th>\n",
       "      <th>同学3</th>\n",
       "      <th>同学4</th>\n",
       "      <th>同学5</th>\n",
       "      <th>同学6</th>\n",
       "      <th>同学7</th>\n",
       "      <th>同学8</th>\n",
       "      <th>同学9</th>\n",
       "    </tr>\n",
       "  </thead>\n",
       "  <tbody>\n",
       "    <tr>\n",
       "      <th>语文</th>\n",
       "      <td>62</td>\n",
       "      <td>98</td>\n",
       "      <td>50</td>\n",
       "      <td>76</td>\n",
       "      <td>64</td>\n",
       "      <td>93</td>\n",
       "      <td>64</td>\n",
       "      <td>69</td>\n",
       "      <td>65</td>\n",
       "      <td>63</td>\n",
       "    </tr>\n",
       "    <tr>\n",
       "      <th>数学</th>\n",
       "      <td>44</td>\n",
       "      <td>61</td>\n",
       "      <td>67</td>\n",
       "      <td>45</td>\n",
       "      <td>63</td>\n",
       "      <td>41</td>\n",
       "      <td>85</td>\n",
       "      <td>70</td>\n",
       "      <td>87</td>\n",
       "      <td>73</td>\n",
       "    </tr>\n",
       "    <tr>\n",
       "      <th>英语</th>\n",
       "      <td>89</td>\n",
       "      <td>67</td>\n",
       "      <td>85</td>\n",
       "      <td>50</td>\n",
       "      <td>64</td>\n",
       "      <td>77</td>\n",
       "      <td>55</td>\n",
       "      <td>90</td>\n",
       "      <td>46</td>\n",
       "      <td>75</td>\n",
       "    </tr>\n",
       "    <tr>\n",
       "      <th>政治</th>\n",
       "      <td>47</td>\n",
       "      <td>79</td>\n",
       "      <td>81</td>\n",
       "      <td>43</td>\n",
       "      <td>99</td>\n",
       "      <td>98</td>\n",
       "      <td>61</td>\n",
       "      <td>64</td>\n",
       "      <td>86</td>\n",
       "      <td>49</td>\n",
       "    </tr>\n",
       "    <tr>\n",
       "      <th>体育</th>\n",
       "      <td>82</td>\n",
       "      <td>93</td>\n",
       "      <td>77</td>\n",
       "      <td>48</td>\n",
       "      <td>67</td>\n",
       "      <td>57</td>\n",
       "      <td>53</td>\n",
       "      <td>47</td>\n",
       "      <td>56</td>\n",
       "      <td>55</td>\n",
       "    </tr>\n",
       "  </tbody>\n",
       "</table>\n",
       "</div>"
      ],
      "text/plain": [
       "    同学0  同学1  同学2  同学3  同学4  同学5  同学6  同学7  同学8  同学9\n",
       "语文   62   98   50   76   64   93   64   69   65   63\n",
       "数学   44   61   67   45   63   41   85   70   87   73\n",
       "英语   89   67   85   50   64   77   55   90   46   75\n",
       "政治   47   79   81   43   99   98   61   64   86   49\n",
       "体育   82   93   77   48   67   57   53   47   56   55"
      ]
     },
     "execution_count": 20,
     "metadata": {},
     "output_type": "execute_result"
    }
   ],
   "source": [
    "data.T"
   ]
  },
  {
   "cell_type": "code",
   "execution_count": 21,
   "id": "1cd72693-20f8-4e9c-9762-adc45ba1d489",
   "metadata": {},
   "outputs": [
    {
     "data": {
      "text/plain": [
       "array([[62, 44, 89, 47, 82],\n",
       "       [98, 61, 67, 79, 93],\n",
       "       [50, 67, 85, 81, 77],\n",
       "       [76, 45, 50, 43, 48],\n",
       "       [64, 63, 64, 99, 67],\n",
       "       [93, 41, 77, 98, 57],\n",
       "       [64, 85, 55, 61, 53],\n",
       "       [69, 70, 90, 64, 47],\n",
       "       [65, 87, 46, 86, 56],\n",
       "       [63, 73, 75, 49, 55]], dtype=int32)"
      ]
     },
     "execution_count": 21,
     "metadata": {},
     "output_type": "execute_result"
    }
   ],
   "source": [
    "data.values"
   ]
  },
  {
   "cell_type": "code",
   "execution_count": 22,
   "id": "f65a3ae3-273f-4e61-bc90-00f6fbf429f5",
   "metadata": {},
   "outputs": [
    {
     "data": {
      "text/html": [
       "<div>\n",
       "<style scoped>\n",
       "    .dataframe tbody tr th:only-of-type {\n",
       "        vertical-align: middle;\n",
       "    }\n",
       "\n",
       "    .dataframe tbody tr th {\n",
       "        vertical-align: top;\n",
       "    }\n",
       "\n",
       "    .dataframe thead th {\n",
       "        text-align: right;\n",
       "    }\n",
       "</style>\n",
       "<table border=\"1\" class=\"dataframe\">\n",
       "  <thead>\n",
       "    <tr style=\"text-align: right;\">\n",
       "      <th></th>\n",
       "      <th>语文</th>\n",
       "      <th>数学</th>\n",
       "      <th>英语</th>\n",
       "      <th>政治</th>\n",
       "      <th>体育</th>\n",
       "    </tr>\n",
       "  </thead>\n",
       "  <tbody>\n",
       "    <tr>\n",
       "      <th>同学0</th>\n",
       "      <td>62</td>\n",
       "      <td>44</td>\n",
       "      <td>89</td>\n",
       "      <td>47</td>\n",
       "      <td>82</td>\n",
       "    </tr>\n",
       "    <tr>\n",
       "      <th>同学1</th>\n",
       "      <td>98</td>\n",
       "      <td>61</td>\n",
       "      <td>67</td>\n",
       "      <td>79</td>\n",
       "      <td>93</td>\n",
       "    </tr>\n",
       "    <tr>\n",
       "      <th>同学2</th>\n",
       "      <td>50</td>\n",
       "      <td>67</td>\n",
       "      <td>85</td>\n",
       "      <td>81</td>\n",
       "      <td>77</td>\n",
       "    </tr>\n",
       "    <tr>\n",
       "      <th>同学3</th>\n",
       "      <td>76</td>\n",
       "      <td>45</td>\n",
       "      <td>50</td>\n",
       "      <td>43</td>\n",
       "      <td>48</td>\n",
       "    </tr>\n",
       "    <tr>\n",
       "      <th>同学4</th>\n",
       "      <td>64</td>\n",
       "      <td>63</td>\n",
       "      <td>64</td>\n",
       "      <td>99</td>\n",
       "      <td>67</td>\n",
       "    </tr>\n",
       "  </tbody>\n",
       "</table>\n",
       "</div>"
      ],
      "text/plain": [
       "     语文  数学  英语  政治  体育\n",
       "同学0  62  44  89  47  82\n",
       "同学1  98  61  67  79  93\n",
       "同学2  50  67  85  81  77\n",
       "同学3  76  45  50  43  48\n",
       "同学4  64  63  64  99  67"
      ]
     },
     "execution_count": 22,
     "metadata": {},
     "output_type": "execute_result"
    }
   ],
   "source": [
    "data.head()"
   ]
  },
  {
   "cell_type": "code",
   "execution_count": 23,
   "id": "a0f9fe44-18cc-48bf-ae38-ab7ff3618f3c",
   "metadata": {},
   "outputs": [
    {
     "data": {
      "text/html": [
       "<div>\n",
       "<style scoped>\n",
       "    .dataframe tbody tr th:only-of-type {\n",
       "        vertical-align: middle;\n",
       "    }\n",
       "\n",
       "    .dataframe tbody tr th {\n",
       "        vertical-align: top;\n",
       "    }\n",
       "\n",
       "    .dataframe thead th {\n",
       "        text-align: right;\n",
       "    }\n",
       "</style>\n",
       "<table border=\"1\" class=\"dataframe\">\n",
       "  <thead>\n",
       "    <tr style=\"text-align: right;\">\n",
       "      <th></th>\n",
       "      <th>语文</th>\n",
       "      <th>数学</th>\n",
       "      <th>英语</th>\n",
       "      <th>政治</th>\n",
       "      <th>体育</th>\n",
       "    </tr>\n",
       "  </thead>\n",
       "  <tbody>\n",
       "    <tr>\n",
       "      <th>同学0</th>\n",
       "      <td>62</td>\n",
       "      <td>44</td>\n",
       "      <td>89</td>\n",
       "      <td>47</td>\n",
       "      <td>82</td>\n",
       "    </tr>\n",
       "    <tr>\n",
       "      <th>同学1</th>\n",
       "      <td>98</td>\n",
       "      <td>61</td>\n",
       "      <td>67</td>\n",
       "      <td>79</td>\n",
       "      <td>93</td>\n",
       "    </tr>\n",
       "    <tr>\n",
       "      <th>同学2</th>\n",
       "      <td>50</td>\n",
       "      <td>67</td>\n",
       "      <td>85</td>\n",
       "      <td>81</td>\n",
       "      <td>77</td>\n",
       "    </tr>\n",
       "  </tbody>\n",
       "</table>\n",
       "</div>"
      ],
      "text/plain": [
       "     语文  数学  英语  政治  体育\n",
       "同学0  62  44  89  47  82\n",
       "同学1  98  61  67  79  93\n",
       "同学2  50  67  85  81  77"
      ]
     },
     "execution_count": 23,
     "metadata": {},
     "output_type": "execute_result"
    }
   ],
   "source": [
    "data.head(3)"
   ]
  },
  {
   "cell_type": "code",
   "execution_count": 24,
   "id": "ffdb551b-5747-4afd-94c8-406780e476dc",
   "metadata": {},
   "outputs": [
    {
     "data": {
      "text/html": [
       "<div>\n",
       "<style scoped>\n",
       "    .dataframe tbody tr th:only-of-type {\n",
       "        vertical-align: middle;\n",
       "    }\n",
       "\n",
       "    .dataframe tbody tr th {\n",
       "        vertical-align: top;\n",
       "    }\n",
       "\n",
       "    .dataframe thead th {\n",
       "        text-align: right;\n",
       "    }\n",
       "</style>\n",
       "<table border=\"1\" class=\"dataframe\">\n",
       "  <thead>\n",
       "    <tr style=\"text-align: right;\">\n",
       "      <th></th>\n",
       "      <th>语文</th>\n",
       "      <th>数学</th>\n",
       "      <th>英语</th>\n",
       "      <th>政治</th>\n",
       "      <th>体育</th>\n",
       "    </tr>\n",
       "  </thead>\n",
       "  <tbody>\n",
       "    <tr>\n",
       "      <th>同学5</th>\n",
       "      <td>93</td>\n",
       "      <td>41</td>\n",
       "      <td>77</td>\n",
       "      <td>98</td>\n",
       "      <td>57</td>\n",
       "    </tr>\n",
       "    <tr>\n",
       "      <th>同学6</th>\n",
       "      <td>64</td>\n",
       "      <td>85</td>\n",
       "      <td>55</td>\n",
       "      <td>61</td>\n",
       "      <td>53</td>\n",
       "    </tr>\n",
       "    <tr>\n",
       "      <th>同学7</th>\n",
       "      <td>69</td>\n",
       "      <td>70</td>\n",
       "      <td>90</td>\n",
       "      <td>64</td>\n",
       "      <td>47</td>\n",
       "    </tr>\n",
       "    <tr>\n",
       "      <th>同学8</th>\n",
       "      <td>65</td>\n",
       "      <td>87</td>\n",
       "      <td>46</td>\n",
       "      <td>86</td>\n",
       "      <td>56</td>\n",
       "    </tr>\n",
       "    <tr>\n",
       "      <th>同学9</th>\n",
       "      <td>63</td>\n",
       "      <td>73</td>\n",
       "      <td>75</td>\n",
       "      <td>49</td>\n",
       "      <td>55</td>\n",
       "    </tr>\n",
       "  </tbody>\n",
       "</table>\n",
       "</div>"
      ],
      "text/plain": [
       "     语文  数学  英语  政治  体育\n",
       "同学5  93  41  77  98  57\n",
       "同学6  64  85  55  61  53\n",
       "同学7  69  70  90  64  47\n",
       "同学8  65  87  46  86  56\n",
       "同学9  63  73  75  49  55"
      ]
     },
     "execution_count": 24,
     "metadata": {},
     "output_type": "execute_result"
    }
   ],
   "source": [
    "data.tail()"
   ]
  },
  {
   "cell_type": "markdown",
   "id": "4e47f3a8-9ca9-476b-affe-3892c35ac463",
   "metadata": {},
   "source": [
    "## DataFrame索引值的设置"
   ]
  },
  {
   "cell_type": "code",
   "execution_count": 25,
   "id": "8faf455c-6853-4109-b9df-43bbcc5841a9",
   "metadata": {},
   "outputs": [],
   "source": [
    "stu = [\"同学_\"+ str(i) for i in range(score_df.shape[0])]"
   ]
  },
  {
   "cell_type": "code",
   "execution_count": 26,
   "id": "46fcb3f4-5f5c-41d2-926b-ea68b4746147",
   "metadata": {},
   "outputs": [
    {
     "data": {
      "text/plain": [
       "['同学_0',\n",
       " '同学_1',\n",
       " '同学_2',\n",
       " '同学_3',\n",
       " '同学_4',\n",
       " '同学_5',\n",
       " '同学_6',\n",
       " '同学_7',\n",
       " '同学_8',\n",
       " '同学_9']"
      ]
     },
     "execution_count": 26,
     "metadata": {},
     "output_type": "execute_result"
    }
   ],
   "source": [
    "stu"
   ]
  },
  {
   "cell_type": "code",
   "execution_count": 27,
   "id": "eacbb7ba-d504-4a7d-80dc-ba6b0d5312f5",
   "metadata": {},
   "outputs": [],
   "source": [
    "data.index = stu"
   ]
  },
  {
   "cell_type": "code",
   "execution_count": 28,
   "id": "5392ed77-775b-47c4-922f-6b2ebec0d9db",
   "metadata": {},
   "outputs": [
    {
     "data": {
      "text/html": [
       "<div>\n",
       "<style scoped>\n",
       "    .dataframe tbody tr th:only-of-type {\n",
       "        vertical-align: middle;\n",
       "    }\n",
       "\n",
       "    .dataframe tbody tr th {\n",
       "        vertical-align: top;\n",
       "    }\n",
       "\n",
       "    .dataframe thead th {\n",
       "        text-align: right;\n",
       "    }\n",
       "</style>\n",
       "<table border=\"1\" class=\"dataframe\">\n",
       "  <thead>\n",
       "    <tr style=\"text-align: right;\">\n",
       "      <th></th>\n",
       "      <th>语文</th>\n",
       "      <th>数学</th>\n",
       "      <th>英语</th>\n",
       "      <th>政治</th>\n",
       "      <th>体育</th>\n",
       "    </tr>\n",
       "  </thead>\n",
       "  <tbody>\n",
       "    <tr>\n",
       "      <th>同学_0</th>\n",
       "      <td>62</td>\n",
       "      <td>44</td>\n",
       "      <td>89</td>\n",
       "      <td>47</td>\n",
       "      <td>82</td>\n",
       "    </tr>\n",
       "    <tr>\n",
       "      <th>同学_1</th>\n",
       "      <td>98</td>\n",
       "      <td>61</td>\n",
       "      <td>67</td>\n",
       "      <td>79</td>\n",
       "      <td>93</td>\n",
       "    </tr>\n",
       "    <tr>\n",
       "      <th>同学_2</th>\n",
       "      <td>50</td>\n",
       "      <td>67</td>\n",
       "      <td>85</td>\n",
       "      <td>81</td>\n",
       "      <td>77</td>\n",
       "    </tr>\n",
       "    <tr>\n",
       "      <th>同学_3</th>\n",
       "      <td>76</td>\n",
       "      <td>45</td>\n",
       "      <td>50</td>\n",
       "      <td>43</td>\n",
       "      <td>48</td>\n",
       "    </tr>\n",
       "    <tr>\n",
       "      <th>同学_4</th>\n",
       "      <td>64</td>\n",
       "      <td>63</td>\n",
       "      <td>64</td>\n",
       "      <td>99</td>\n",
       "      <td>67</td>\n",
       "    </tr>\n",
       "    <tr>\n",
       "      <th>同学_5</th>\n",
       "      <td>93</td>\n",
       "      <td>41</td>\n",
       "      <td>77</td>\n",
       "      <td>98</td>\n",
       "      <td>57</td>\n",
       "    </tr>\n",
       "    <tr>\n",
       "      <th>同学_6</th>\n",
       "      <td>64</td>\n",
       "      <td>85</td>\n",
       "      <td>55</td>\n",
       "      <td>61</td>\n",
       "      <td>53</td>\n",
       "    </tr>\n",
       "    <tr>\n",
       "      <th>同学_7</th>\n",
       "      <td>69</td>\n",
       "      <td>70</td>\n",
       "      <td>90</td>\n",
       "      <td>64</td>\n",
       "      <td>47</td>\n",
       "    </tr>\n",
       "    <tr>\n",
       "      <th>同学_8</th>\n",
       "      <td>65</td>\n",
       "      <td>87</td>\n",
       "      <td>46</td>\n",
       "      <td>86</td>\n",
       "      <td>56</td>\n",
       "    </tr>\n",
       "    <tr>\n",
       "      <th>同学_9</th>\n",
       "      <td>63</td>\n",
       "      <td>73</td>\n",
       "      <td>75</td>\n",
       "      <td>49</td>\n",
       "      <td>55</td>\n",
       "    </tr>\n",
       "  </tbody>\n",
       "</table>\n",
       "</div>"
      ],
      "text/plain": [
       "      语文  数学  英语  政治  体育\n",
       "同学_0  62  44  89  47  82\n",
       "同学_1  98  61  67  79  93\n",
       "同学_2  50  67  85  81  77\n",
       "同学_3  76  45  50  43  48\n",
       "同学_4  64  63  64  99  67\n",
       "同学_5  93  41  77  98  57\n",
       "同学_6  64  85  55  61  53\n",
       "同学_7  69  70  90  64  47\n",
       "同学_8  65  87  46  86  56\n",
       "同学_9  63  73  75  49  55"
      ]
     },
     "execution_count": 28,
     "metadata": {},
     "output_type": "execute_result"
    }
   ],
   "source": [
    "data"
   ]
  },
  {
   "cell_type": "code",
   "execution_count": 29,
   "id": "803ca190-815a-4609-adf3-74375e600e49",
   "metadata": {},
   "outputs": [],
   "source": [
    "# data.index[2] = \"1\""
   ]
  },
  {
   "cell_type": "code",
   "execution_count": 30,
   "id": "f60e5cf7-bec8-4db0-adaf-337aee0bb0c0",
   "metadata": {},
   "outputs": [],
   "source": [
    "# reset_index 重置缩影"
   ]
  },
  {
   "cell_type": "code",
   "execution_count": 31,
   "id": "22ad01f0-ff03-4b06-9574-7e64ba74f91f",
   "metadata": {},
   "outputs": [
    {
     "data": {
      "text/html": [
       "<div>\n",
       "<style scoped>\n",
       "    .dataframe tbody tr th:only-of-type {\n",
       "        vertical-align: middle;\n",
       "    }\n",
       "\n",
       "    .dataframe tbody tr th {\n",
       "        vertical-align: top;\n",
       "    }\n",
       "\n",
       "    .dataframe thead th {\n",
       "        text-align: right;\n",
       "    }\n",
       "</style>\n",
       "<table border=\"1\" class=\"dataframe\">\n",
       "  <thead>\n",
       "    <tr style=\"text-align: right;\">\n",
       "      <th></th>\n",
       "      <th>index</th>\n",
       "      <th>语文</th>\n",
       "      <th>数学</th>\n",
       "      <th>英语</th>\n",
       "      <th>政治</th>\n",
       "      <th>体育</th>\n",
       "    </tr>\n",
       "  </thead>\n",
       "  <tbody>\n",
       "    <tr>\n",
       "      <th>0</th>\n",
       "      <td>同学_0</td>\n",
       "      <td>62</td>\n",
       "      <td>44</td>\n",
       "      <td>89</td>\n",
       "      <td>47</td>\n",
       "      <td>82</td>\n",
       "    </tr>\n",
       "    <tr>\n",
       "      <th>1</th>\n",
       "      <td>同学_1</td>\n",
       "      <td>98</td>\n",
       "      <td>61</td>\n",
       "      <td>67</td>\n",
       "      <td>79</td>\n",
       "      <td>93</td>\n",
       "    </tr>\n",
       "    <tr>\n",
       "      <th>2</th>\n",
       "      <td>同学_2</td>\n",
       "      <td>50</td>\n",
       "      <td>67</td>\n",
       "      <td>85</td>\n",
       "      <td>81</td>\n",
       "      <td>77</td>\n",
       "    </tr>\n",
       "    <tr>\n",
       "      <th>3</th>\n",
       "      <td>同学_3</td>\n",
       "      <td>76</td>\n",
       "      <td>45</td>\n",
       "      <td>50</td>\n",
       "      <td>43</td>\n",
       "      <td>48</td>\n",
       "    </tr>\n",
       "    <tr>\n",
       "      <th>4</th>\n",
       "      <td>同学_4</td>\n",
       "      <td>64</td>\n",
       "      <td>63</td>\n",
       "      <td>64</td>\n",
       "      <td>99</td>\n",
       "      <td>67</td>\n",
       "    </tr>\n",
       "    <tr>\n",
       "      <th>5</th>\n",
       "      <td>同学_5</td>\n",
       "      <td>93</td>\n",
       "      <td>41</td>\n",
       "      <td>77</td>\n",
       "      <td>98</td>\n",
       "      <td>57</td>\n",
       "    </tr>\n",
       "    <tr>\n",
       "      <th>6</th>\n",
       "      <td>同学_6</td>\n",
       "      <td>64</td>\n",
       "      <td>85</td>\n",
       "      <td>55</td>\n",
       "      <td>61</td>\n",
       "      <td>53</td>\n",
       "    </tr>\n",
       "    <tr>\n",
       "      <th>7</th>\n",
       "      <td>同学_7</td>\n",
       "      <td>69</td>\n",
       "      <td>70</td>\n",
       "      <td>90</td>\n",
       "      <td>64</td>\n",
       "      <td>47</td>\n",
       "    </tr>\n",
       "    <tr>\n",
       "      <th>8</th>\n",
       "      <td>同学_8</td>\n",
       "      <td>65</td>\n",
       "      <td>87</td>\n",
       "      <td>46</td>\n",
       "      <td>86</td>\n",
       "      <td>56</td>\n",
       "    </tr>\n",
       "    <tr>\n",
       "      <th>9</th>\n",
       "      <td>同学_9</td>\n",
       "      <td>63</td>\n",
       "      <td>73</td>\n",
       "      <td>75</td>\n",
       "      <td>49</td>\n",
       "      <td>55</td>\n",
       "    </tr>\n",
       "  </tbody>\n",
       "</table>\n",
       "</div>"
      ],
      "text/plain": [
       "  index  语文  数学  英语  政治  体育\n",
       "0  同学_0  62  44  89  47  82\n",
       "1  同学_1  98  61  67  79  93\n",
       "2  同学_2  50  67  85  81  77\n",
       "3  同学_3  76  45  50  43  48\n",
       "4  同学_4  64  63  64  99  67\n",
       "5  同学_5  93  41  77  98  57\n",
       "6  同学_6  64  85  55  61  53\n",
       "7  同学_7  69  70  90  64  47\n",
       "8  同学_8  65  87  46  86  56\n",
       "9  同学_9  63  73  75  49  55"
      ]
     },
     "execution_count": 31,
     "metadata": {},
     "output_type": "execute_result"
    }
   ],
   "source": [
    "data.reset_index()"
   ]
  },
  {
   "cell_type": "code",
   "execution_count": 32,
   "id": "ba1953cf-19f6-413a-a68b-6c58308c3dd1",
   "metadata": {},
   "outputs": [
    {
     "data": {
      "text/html": [
       "<div>\n",
       "<style scoped>\n",
       "    .dataframe tbody tr th:only-of-type {\n",
       "        vertical-align: middle;\n",
       "    }\n",
       "\n",
       "    .dataframe tbody tr th {\n",
       "        vertical-align: top;\n",
       "    }\n",
       "\n",
       "    .dataframe thead th {\n",
       "        text-align: right;\n",
       "    }\n",
       "</style>\n",
       "<table border=\"1\" class=\"dataframe\">\n",
       "  <thead>\n",
       "    <tr style=\"text-align: right;\">\n",
       "      <th></th>\n",
       "      <th>语文</th>\n",
       "      <th>数学</th>\n",
       "      <th>英语</th>\n",
       "      <th>政治</th>\n",
       "      <th>体育</th>\n",
       "    </tr>\n",
       "  </thead>\n",
       "  <tbody>\n",
       "    <tr>\n",
       "      <th>0</th>\n",
       "      <td>62</td>\n",
       "      <td>44</td>\n",
       "      <td>89</td>\n",
       "      <td>47</td>\n",
       "      <td>82</td>\n",
       "    </tr>\n",
       "    <tr>\n",
       "      <th>1</th>\n",
       "      <td>98</td>\n",
       "      <td>61</td>\n",
       "      <td>67</td>\n",
       "      <td>79</td>\n",
       "      <td>93</td>\n",
       "    </tr>\n",
       "    <tr>\n",
       "      <th>2</th>\n",
       "      <td>50</td>\n",
       "      <td>67</td>\n",
       "      <td>85</td>\n",
       "      <td>81</td>\n",
       "      <td>77</td>\n",
       "    </tr>\n",
       "    <tr>\n",
       "      <th>3</th>\n",
       "      <td>76</td>\n",
       "      <td>45</td>\n",
       "      <td>50</td>\n",
       "      <td>43</td>\n",
       "      <td>48</td>\n",
       "    </tr>\n",
       "    <tr>\n",
       "      <th>4</th>\n",
       "      <td>64</td>\n",
       "      <td>63</td>\n",
       "      <td>64</td>\n",
       "      <td>99</td>\n",
       "      <td>67</td>\n",
       "    </tr>\n",
       "    <tr>\n",
       "      <th>5</th>\n",
       "      <td>93</td>\n",
       "      <td>41</td>\n",
       "      <td>77</td>\n",
       "      <td>98</td>\n",
       "      <td>57</td>\n",
       "    </tr>\n",
       "    <tr>\n",
       "      <th>6</th>\n",
       "      <td>64</td>\n",
       "      <td>85</td>\n",
       "      <td>55</td>\n",
       "      <td>61</td>\n",
       "      <td>53</td>\n",
       "    </tr>\n",
       "    <tr>\n",
       "      <th>7</th>\n",
       "      <td>69</td>\n",
       "      <td>70</td>\n",
       "      <td>90</td>\n",
       "      <td>64</td>\n",
       "      <td>47</td>\n",
       "    </tr>\n",
       "    <tr>\n",
       "      <th>8</th>\n",
       "      <td>65</td>\n",
       "      <td>87</td>\n",
       "      <td>46</td>\n",
       "      <td>86</td>\n",
       "      <td>56</td>\n",
       "    </tr>\n",
       "    <tr>\n",
       "      <th>9</th>\n",
       "      <td>63</td>\n",
       "      <td>73</td>\n",
       "      <td>75</td>\n",
       "      <td>49</td>\n",
       "      <td>55</td>\n",
       "    </tr>\n",
       "  </tbody>\n",
       "</table>\n",
       "</div>"
      ],
      "text/plain": [
       "   语文  数学  英语  政治  体育\n",
       "0  62  44  89  47  82\n",
       "1  98  61  67  79  93\n",
       "2  50  67  85  81  77\n",
       "3  76  45  50  43  48\n",
       "4  64  63  64  99  67\n",
       "5  93  41  77  98  57\n",
       "6  64  85  55  61  53\n",
       "7  69  70  90  64  47\n",
       "8  65  87  46  86  56\n",
       "9  63  73  75  49  55"
      ]
     },
     "execution_count": 32,
     "metadata": {},
     "output_type": "execute_result"
    }
   ],
   "source": [
    "data.reset_index(drop=True)"
   ]
  },
  {
   "cell_type": "code",
   "execution_count": 33,
   "id": "84c4b561-9322-4d50-a2a4-ef8660a35f22",
   "metadata": {},
   "outputs": [],
   "source": [
    "# set_index 设置缩影"
   ]
  },
  {
   "cell_type": "code",
   "execution_count": 49,
   "id": "690348dc-1590-40fd-8206-e652aea5cca8",
   "metadata": {},
   "outputs": [],
   "source": [
    "df = pd.DataFrame({'month': [1, 4, 7, 10],\n",
    "                    'year': [2012, 2014, 2013, 2014],\n",
    "                    'sale':[55, 40, 84, 31]})"
   ]
  },
  {
   "cell_type": "code",
   "execution_count": 50,
   "id": "d3d5b523-80f4-4110-b1ea-744f495e51fc",
   "metadata": {},
   "outputs": [
    {
     "data": {
      "text/html": [
       "<div>\n",
       "<style scoped>\n",
       "    .dataframe tbody tr th:only-of-type {\n",
       "        vertical-align: middle;\n",
       "    }\n",
       "\n",
       "    .dataframe tbody tr th {\n",
       "        vertical-align: top;\n",
       "    }\n",
       "\n",
       "    .dataframe thead th {\n",
       "        text-align: right;\n",
       "    }\n",
       "</style>\n",
       "<table border=\"1\" class=\"dataframe\">\n",
       "  <thead>\n",
       "    <tr style=\"text-align: right;\">\n",
       "      <th></th>\n",
       "      <th>month</th>\n",
       "      <th>year</th>\n",
       "      <th>sale</th>\n",
       "    </tr>\n",
       "  </thead>\n",
       "  <tbody>\n",
       "    <tr>\n",
       "      <th>0</th>\n",
       "      <td>1</td>\n",
       "      <td>2012</td>\n",
       "      <td>55</td>\n",
       "    </tr>\n",
       "    <tr>\n",
       "      <th>1</th>\n",
       "      <td>4</td>\n",
       "      <td>2014</td>\n",
       "      <td>40</td>\n",
       "    </tr>\n",
       "    <tr>\n",
       "      <th>2</th>\n",
       "      <td>7</td>\n",
       "      <td>2013</td>\n",
       "      <td>84</td>\n",
       "    </tr>\n",
       "    <tr>\n",
       "      <th>3</th>\n",
       "      <td>10</td>\n",
       "      <td>2014</td>\n",
       "      <td>31</td>\n",
       "    </tr>\n",
       "  </tbody>\n",
       "</table>\n",
       "</div>"
      ],
      "text/plain": [
       "   month  year  sale\n",
       "0      1  2012    55\n",
       "1      4  2014    40\n",
       "2      7  2013    84\n",
       "3     10  2014    31"
      ]
     },
     "execution_count": 50,
     "metadata": {},
     "output_type": "execute_result"
    }
   ],
   "source": [
    "df"
   ]
  },
  {
   "cell_type": "code",
   "execution_count": 51,
   "id": "2fcbbffc-209f-43d7-8239-496455299621",
   "metadata": {},
   "outputs": [
    {
     "data": {
      "text/html": [
       "<div>\n",
       "<style scoped>\n",
       "    .dataframe tbody tr th:only-of-type {\n",
       "        vertical-align: middle;\n",
       "    }\n",
       "\n",
       "    .dataframe tbody tr th {\n",
       "        vertical-align: top;\n",
       "    }\n",
       "\n",
       "    .dataframe thead th {\n",
       "        text-align: right;\n",
       "    }\n",
       "</style>\n",
       "<table border=\"1\" class=\"dataframe\">\n",
       "  <thead>\n",
       "    <tr style=\"text-align: right;\">\n",
       "      <th></th>\n",
       "      <th>month</th>\n",
       "      <th>sale</th>\n",
       "    </tr>\n",
       "    <tr>\n",
       "      <th>year</th>\n",
       "      <th></th>\n",
       "      <th></th>\n",
       "    </tr>\n",
       "  </thead>\n",
       "  <tbody>\n",
       "    <tr>\n",
       "      <th>2012</th>\n",
       "      <td>1</td>\n",
       "      <td>55</td>\n",
       "    </tr>\n",
       "    <tr>\n",
       "      <th>2014</th>\n",
       "      <td>4</td>\n",
       "      <td>40</td>\n",
       "    </tr>\n",
       "    <tr>\n",
       "      <th>2013</th>\n",
       "      <td>7</td>\n",
       "      <td>84</td>\n",
       "    </tr>\n",
       "    <tr>\n",
       "      <th>2014</th>\n",
       "      <td>10</td>\n",
       "      <td>31</td>\n",
       "    </tr>\n",
       "  </tbody>\n",
       "</table>\n",
       "</div>"
      ],
      "text/plain": [
       "      month  sale\n",
       "year             \n",
       "2012      1    55\n",
       "2014      4    40\n",
       "2013      7    84\n",
       "2014     10    31"
      ]
     },
     "execution_count": 51,
     "metadata": {},
     "output_type": "execute_result"
    }
   ],
   "source": [
    "df.set_index(\"year\")"
   ]
  },
  {
   "cell_type": "code",
   "execution_count": 52,
   "id": "e18afac4-cacc-4579-8ee2-36151849c5dd",
   "metadata": {},
   "outputs": [],
   "source": [
    "df = df.set_index([\"year\",\"month\"])"
   ]
  },
  {
   "cell_type": "markdown",
   "id": "31dd98e7-6e27-47dc-853a-473990dab52d",
   "metadata": {},
   "source": [
    "# MultiIndex与Panel\n",
    "## MultiIndex"
   ]
  },
  {
   "cell_type": "markdown",
   "id": "c0a27d7b-f02e-45dd-8830-a1d3e2e14ddf",
   "metadata": {},
   "source": [
    "df"
   ]
  },
  {
   "cell_type": "code",
   "execution_count": 54,
   "id": "fb7e0189-d4f4-4081-b4fb-9a5378d8a0a5",
   "metadata": {},
   "outputs": [
    {
     "data": {
      "text/plain": [
       "MultiIndex([(2012,  1),\n",
       "            (2014,  4),\n",
       "            (2013,  7),\n",
       "            (2014, 10)],\n",
       "           names=['year', 'month'])"
      ]
     },
     "execution_count": 54,
     "metadata": {},
     "output_type": "execute_result"
    }
   ],
   "source": [
    "df.index"
   ]
  },
  {
   "cell_type": "code",
   "execution_count": 55,
   "id": "0adf42fc-afa3-4195-b161-27f3062f7e4b",
   "metadata": {},
   "outputs": [
    {
     "data": {
      "text/plain": [
       "FrozenList(['year', 'month'])"
      ]
     },
     "execution_count": 55,
     "metadata": {},
     "output_type": "execute_result"
    }
   ],
   "source": [
    "df.index.names"
   ]
  },
  {
   "cell_type": "code",
   "execution_count": 56,
   "id": "3b6c49da-b0ae-460e-960b-f10f38ff84b9",
   "metadata": {},
   "outputs": [
    {
     "data": {
      "text/plain": [
       "FrozenList([[2012, 2013, 2014], [1, 4, 7, 10]])"
      ]
     },
     "execution_count": 56,
     "metadata": {},
     "output_type": "execute_result"
    }
   ],
   "source": [
    "df.index.levels"
   ]
  },
  {
   "cell_type": "code",
   "execution_count": 60,
   "id": "49fc9de6-f35f-421a-8208-92d8c90e71e3",
   "metadata": {},
   "outputs": [],
   "source": [
    "arrays = [[\"red\",\"green\",\"blue\"],[1,1,2]]"
   ]
  },
  {
   "cell_type": "code",
   "execution_count": 61,
   "id": "c4ff783d-819f-44e8-a41c-24a0da81c273",
   "metadata": {},
   "outputs": [
    {
     "data": {
      "text/plain": [
       "MultiIndex([(  'red', 1),\n",
       "            ('green', 1),\n",
       "            ( 'blue', 2)],\n",
       "           names=['color', 'num'])"
      ]
     },
     "execution_count": 61,
     "metadata": {},
     "output_type": "execute_result"
    }
   ],
   "source": [
    "pd.MultiIndex.from_arrays(arrays,names=(\"color\",\"num\"))"
   ]
  },
  {
   "cell_type": "markdown",
   "id": "d05865e6-1f96-4510-a281-89363f91d922",
   "metadata": {},
   "source": [
    "## panel"
   ]
  },
  {
   "cell_type": "code",
   "execution_count": 63,
   "id": "dde42190-b5db-4630-88e0-24e3a3658a1b",
   "metadata": {},
   "outputs": [],
   "source": [
    "# p = pd.Panel(data=np.arange(24).reshape(4,3,2),\n",
    "#                  items=list('ABCD'),\n",
    "#                  major_axis=pd.date_range('20130101', periods=3),\n",
    "#                  minor_axis=['first', 'second'])"
   ]
  },
  {
   "cell_type": "code",
   "execution_count": null,
   "id": "c23897f9-98c0-42ef-afac-2a45f5ec9075",
   "metadata": {},
   "outputs": [],
   "source": []
  },
  {
   "cell_type": "code",
   "execution_count": null,
   "id": "597ebf58-684c-4faa-b5a9-e565a3950e04",
   "metadata": {},
   "outputs": [],
   "source": []
  },
  {
   "cell_type": "code",
   "execution_count": null,
   "id": "1e573bc7-166c-4966-8fc1-9aa4a02f47a8",
   "metadata": {},
   "outputs": [],
   "source": []
  },
  {
   "cell_type": "code",
   "execution_count": null,
   "id": "5d5553fd-7d29-407a-abfa-5d1c78db7475",
   "metadata": {},
   "outputs": [],
   "source": []
  },
  {
   "cell_type": "code",
   "execution_count": null,
   "id": "d156a51d-67f0-4c29-8d61-aa6f5050f433",
   "metadata": {},
   "outputs": [],
   "source": []
  },
  {
   "cell_type": "code",
   "execution_count": null,
   "id": "98a75b89-0869-47a3-994d-d2ed414bdd9a",
   "metadata": {},
   "outputs": [],
   "source": []
  }
 ],
 "metadata": {
  "kernelspec": {
   "display_name": "Python 3 (ipykernel)",
   "language": "python",
   "name": "python3"
  },
  "language_info": {
   "codemirror_mode": {
    "name": "ipython",
    "version": 3
   },
   "file_extension": ".py",
   "mimetype": "text/x-python",
   "name": "python",
   "nbconvert_exporter": "python",
   "pygments_lexer": "ipython3",
   "version": "3.12.6"
  }
 },
 "nbformat": 4,
 "nbformat_minor": 5
}
