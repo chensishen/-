{
 "cells": [
  {
   "cell_type": "code",
   "execution_count": 1,
   "id": "e4e5459f-7c38-47bd-9b98-6a0f746d0749",
   "metadata": {},
   "outputs": [],
   "source": [
    "import numpy as np"
   ]
  },
  {
   "cell_type": "markdown",
   "id": "29186959-b1b5-40d1-9437-95271eb32ceb",
   "metadata": {},
   "source": [
    "## 初始化numpy"
   ]
  },
  {
   "cell_type": "code",
   "execution_count": 2,
   "id": "d0732c58-1985-4f78-8bfb-063ce6e9fe9b",
   "metadata": {},
   "outputs": [],
   "source": [
    "score = np.array(\n",
    "    [[80, 89, 86, 67, 79],\n",
    "[78, 97, 89, 67, 81],\n",
    "[90, 94, 78, 67, 74],\n",
    "[91, 91, 90, 67, 69],\n",
    "[76, 87, 75, 67, 86],\n",
    "[70, 79, 84, 67, 84],\n",
    "[94, 92, 93, 67, 64],\n",
    "[86, 85, 83, 67, 80]]\n",
    ")"
   ]
  },
  {
   "cell_type": "code",
   "execution_count": 3,
   "id": "e7667c30-b294-4a8b-b99e-c2b4fdb46a60",
   "metadata": {},
   "outputs": [
    {
     "data": {
      "text/plain": [
       "array([[80, 89, 86, 67, 79],\n",
       "       [78, 97, 89, 67, 81],\n",
       "       [90, 94, 78, 67, 74],\n",
       "       [91, 91, 90, 67, 69],\n",
       "       [76, 87, 75, 67, 86],\n",
       "       [70, 79, 84, 67, 84],\n",
       "       [94, 92, 93, 67, 64],\n",
       "       [86, 85, 83, 67, 80]])"
      ]
     },
     "execution_count": 3,
     "metadata": {},
     "output_type": "execute_result"
    }
   ],
   "source": [
    "score"
   ]
  },
  {
   "cell_type": "markdown",
   "id": "68a8575b-82b6-49c0-9c35-9b04c64796c1",
   "metadata": {},
   "source": [
    "## ndarray和原生Python效率对比"
   ]
  },
  {
   "cell_type": "code",
   "execution_count": 4,
   "id": "fd844e8b-fefa-4ecc-9aeb-2f5977fbaa7a",
   "metadata": {},
   "outputs": [],
   "source": [
    "# import random\n",
    "# import time\n",
    "# import numpy as np\n",
    "# a = []\n",
    "# for i in range(100000000):\n",
    "#     a.append(random.random())\n",
    "\n",
    "# # 通过%time魔法方法, 查看当前行的代码运行一次所花费的时间\n",
    "# %time sum1=sum(a)\n",
    "\n",
    "# b=np.array(a)\n",
    "\n",
    "# %time sum2=np.sum(b)"
   ]
  },
  {
   "cell_type": "markdown",
   "id": "99469903-7043-4977-855b-21ba9c879d30",
   "metadata": {},
   "source": [
    "# ndarray的使用"
   ]
  },
  {
   "cell_type": "markdown",
   "id": "3f977946-18fb-4ec6-a364-e2a8b39696ab",
   "metadata": {},
   "source": [
    "## 数组的属性"
   ]
  },
  {
   "cell_type": "code",
   "execution_count": 5,
   "id": "d10a5e83-a692-4e00-a6eb-cf5ce7043a05",
   "metadata": {},
   "outputs": [
    {
     "data": {
      "text/plain": [
       "array([[80, 89, 86, 67, 79],\n",
       "       [78, 97, 89, 67, 81],\n",
       "       [90, 94, 78, 67, 74],\n",
       "       [91, 91, 90, 67, 69],\n",
       "       [76, 87, 75, 67, 86],\n",
       "       [70, 79, 84, 67, 84],\n",
       "       [94, 92, 93, 67, 64],\n",
       "       [86, 85, 83, 67, 80]])"
      ]
     },
     "execution_count": 5,
     "metadata": {},
     "output_type": "execute_result"
    }
   ],
   "source": [
    "score"
   ]
  },
  {
   "cell_type": "code",
   "execution_count": 6,
   "id": "88251a66-35b2-4bd0-bdd1-032f96a68386",
   "metadata": {},
   "outputs": [
    {
     "data": {
      "text/plain": [
       "(8, 5)"
      ]
     },
     "execution_count": 6,
     "metadata": {},
     "output_type": "execute_result"
    }
   ],
   "source": [
    "score.shape"
   ]
  },
  {
   "cell_type": "code",
   "execution_count": 7,
   "id": "d45d5435-cbe5-43c7-8f30-4c93eb086157",
   "metadata": {},
   "outputs": [
    {
     "data": {
      "text/plain": [
       "2"
      ]
     },
     "execution_count": 7,
     "metadata": {},
     "output_type": "execute_result"
    }
   ],
   "source": [
    "score.ndim"
   ]
  },
  {
   "cell_type": "code",
   "execution_count": 8,
   "id": "ab27c31c-e1c5-49d4-b205-8a5561013214",
   "metadata": {},
   "outputs": [
    {
     "data": {
      "text/plain": [
       "40"
      ]
     },
     "execution_count": 8,
     "metadata": {},
     "output_type": "execute_result"
    }
   ],
   "source": [
    "score.size"
   ]
  },
  {
   "cell_type": "code",
   "execution_count": 9,
   "id": "79070c2c-c560-4379-98ff-e6a7823093b4",
   "metadata": {},
   "outputs": [
    {
     "data": {
      "text/plain": [
       "8"
      ]
     },
     "execution_count": 9,
     "metadata": {},
     "output_type": "execute_result"
    }
   ],
   "source": [
    "score.itemsize"
   ]
  },
  {
   "cell_type": "code",
   "execution_count": 10,
   "id": "4b6fe39f-c36a-4854-babd-38ae4b1fd1d6",
   "metadata": {},
   "outputs": [
    {
     "data": {
      "text/plain": [
       "dtype('int64')"
      ]
     },
     "execution_count": 10,
     "metadata": {},
     "output_type": "execute_result"
    }
   ],
   "source": [
    "score.dtype"
   ]
  },
  {
   "cell_type": "markdown",
   "id": "da246bf6-39da-4c27-b2cd-a9025851f751",
   "metadata": {},
   "source": [
    "## 数组的形状"
   ]
  },
  {
   "cell_type": "code",
   "execution_count": 11,
   "id": "b1d76ab0-4664-49f0-a579-33f3c67f2111",
   "metadata": {},
   "outputs": [],
   "source": [
    "a = np.array([1,2,3])"
   ]
  },
  {
   "cell_type": "code",
   "execution_count": 12,
   "id": "b96140db-ea93-426c-8e19-f7ccd6f22238",
   "metadata": {},
   "outputs": [
    {
     "data": {
      "text/plain": [
       "array([1, 2, 3])"
      ]
     },
     "execution_count": 12,
     "metadata": {},
     "output_type": "execute_result"
    }
   ],
   "source": [
    "a"
   ]
  },
  {
   "cell_type": "code",
   "execution_count": 13,
   "id": "637cdafe-7490-4323-aba7-027d563152b6",
   "metadata": {},
   "outputs": [
    {
     "data": {
      "text/plain": [
       "(3,)"
      ]
     },
     "execution_count": 13,
     "metadata": {},
     "output_type": "execute_result"
    }
   ],
   "source": [
    "a.shape"
   ]
  },
  {
   "cell_type": "code",
   "execution_count": 14,
   "id": "b3ca35e9-c36b-4f7a-b9d1-25a9cfbdf17f",
   "metadata": {},
   "outputs": [],
   "source": [
    "b = np.array([[1,2,3],[1,2,3]])"
   ]
  },
  {
   "cell_type": "code",
   "execution_count": 15,
   "id": "fea55128-e37c-4ec4-bb82-3be7853d4a2e",
   "metadata": {},
   "outputs": [
    {
     "data": {
      "text/plain": [
       "array([[1, 2, 3],\n",
       "       [1, 2, 3]])"
      ]
     },
     "execution_count": 15,
     "metadata": {},
     "output_type": "execute_result"
    }
   ],
   "source": [
    "b"
   ]
  },
  {
   "cell_type": "code",
   "execution_count": 16,
   "id": "0330eb09-72db-4408-b557-4bd42a1cf8b1",
   "metadata": {},
   "outputs": [
    {
     "data": {
      "text/plain": [
       "(2, 3)"
      ]
     },
     "execution_count": 16,
     "metadata": {},
     "output_type": "execute_result"
    }
   ],
   "source": [
    "b.shape"
   ]
  },
  {
   "cell_type": "code",
   "execution_count": 17,
   "id": "e9751139-e671-453b-9e66-6b571273306b",
   "metadata": {},
   "outputs": [],
   "source": [
    "c = np.array([[[1,2,3],[1,2,3]],[[1,2,3],[1,2,3]]])"
   ]
  },
  {
   "cell_type": "code",
   "execution_count": 18,
   "id": "d0e7f580-bda1-4ed7-b998-0571929b1c79",
   "metadata": {},
   "outputs": [
    {
     "data": {
      "text/plain": [
       "array([[[1, 2, 3],\n",
       "        [1, 2, 3]],\n",
       "\n",
       "       [[1, 2, 3],\n",
       "        [1, 2, 3]]])"
      ]
     },
     "execution_count": 18,
     "metadata": {},
     "output_type": "execute_result"
    }
   ],
   "source": [
    "c"
   ]
  },
  {
   "cell_type": "code",
   "execution_count": 19,
   "id": "ae6833e8-2d22-496d-b223-d396000df875",
   "metadata": {},
   "outputs": [
    {
     "data": {
      "text/plain": [
       "(2, 2, 3)"
      ]
     },
     "execution_count": 19,
     "metadata": {},
     "output_type": "execute_result"
    }
   ],
   "source": [
    "c.shape"
   ]
  },
  {
   "cell_type": "markdown",
   "id": "ad988be1-3dfd-4951-850d-f8e91b487c06",
   "metadata": {},
   "source": [
    "## 数组的类型"
   ]
  },
  {
   "cell_type": "code",
   "execution_count": 20,
   "id": "39d8f932-f6ef-49a8-ad3e-7da6bb9b5693",
   "metadata": {},
   "outputs": [],
   "source": [
    "b = np.array([[1,2,3],[1,2,3]],dtype=np.float32)"
   ]
  },
  {
   "cell_type": "code",
   "execution_count": 21,
   "id": "59ada0f0-c9fa-4407-b746-2a93bbfda8ed",
   "metadata": {},
   "outputs": [
    {
     "data": {
      "text/plain": [
       "array([[1., 2., 3.],\n",
       "       [1., 2., 3.]], dtype=float32)"
      ]
     },
     "execution_count": 21,
     "metadata": {},
     "output_type": "execute_result"
    }
   ],
   "source": [
    "b"
   ]
  },
  {
   "cell_type": "code",
   "execution_count": 24,
   "id": "88978fd9-d081-4551-a7f1-f524e511ac5b",
   "metadata": {},
   "outputs": [],
   "source": [
    "arr = np.array([\"pythonI\", \"hello\", \"I\"], dtype=np.bytes_)"
   ]
  },
  {
   "cell_type": "code",
   "execution_count": 25,
   "id": "090570e7-b2e6-4b33-928e-87a2101cb1a4",
   "metadata": {},
   "outputs": [
    {
     "data": {
      "text/plain": [
       "array([b'pythonI', b'hello', b'I'], dtype='|S7')"
      ]
     },
     "execution_count": 25,
     "metadata": {},
     "output_type": "execute_result"
    }
   ],
   "source": [
    "arr"
   ]
  },
  {
   "cell_type": "code",
   "execution_count": null,
   "id": "448f2c23-a395-4eb1-9660-3789adbe9dab",
   "metadata": {},
   "outputs": [],
   "source": []
  }
 ],
 "metadata": {
  "kernelspec": {
   "display_name": "Python 3 (ipykernel)",
   "language": "python",
   "name": "python3"
  },
  "language_info": {
   "codemirror_mode": {
    "name": "ipython",
    "version": 3
   },
   "file_extension": ".py",
   "mimetype": "text/x-python",
   "name": "python",
   "nbconvert_exporter": "python",
   "pygments_lexer": "ipython3",
   "version": "3.12.6"
  }
 },
 "nbformat": 4,
 "nbformat_minor": 5
}
