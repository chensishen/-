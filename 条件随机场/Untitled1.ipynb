{
 "cells": [
  {
   "cell_type": "code",
   "execution_count": 11,
   "id": "ad5fb965-04b4-4a55-81af-0c7c2ca9b7e6",
   "metadata": {},
   "outputs": [],
   "source": [
    "import numpy as np\n",
    "\n",
    "# 定义状态和观察的名称索引\n",
    "states = ['Sunny', 'Rainy']\n",
    "observations = ['Walk', 'Shop', 'Clean']\n",
    "state_to_index = {state: i for i, state in enumerate(states)}\n",
    "obs_to_index = {obs: i for i, obs in enumerate(observations)}\n",
    "\n",
    "# 初始概率分布\n",
    "start_prob = np.array([0.6, 0.4])  # [P(Sunny), P(Rainy)]\n",
    "\n",
    "# 状态转移概率矩阵\n",
    "transition_prob = np.array([\n",
    "    [0.8, 0.2],  # Sunny -> [Sunny, Rainy]\n",
    "    [0.4, 0.6]   # Rainy -> [Sunny, Rainy]\n",
    "])\n",
    "\n",
    "# 发射概率矩阵（观测概率）\n",
    "emission_prob = np.array([\n",
    "    [0.6, 0.3, 0.1],  # Sunny -> [Walk, Shop, Clean]\n",
    "    [0.1, 0.4, 0.5]   # Rainy -> [Walk, Shop, Clean]\n",
    "])\n",
    "\n",
    "# 观察序列\n",
    "observed_sequence = ['Walk', 'Shop', 'Clean']\n"
   ]
  },
  {
   "cell_type": "code",
   "execution_count": 25,
   "id": "a83fe7d3-9d44-4296-be68-998b9e0123d9",
   "metadata": {},
   "outputs": [
    {
     "name": "stdout",
     "output_type": "stream",
     "text": [
      "[[0. 0. 0.]\n",
      " [0. 0. 0.]]\n",
      "[[0 0 0]\n",
      " [0 0 0]]\n"
     ]
    }
   ],
   "source": [
    "n_states = len(states)\n",
    "n_observations = len(observed_sequence)\n",
    "\n",
    "# 维特比矩阵 V，用来存储到每个时刻每个状态的最大概率\n",
    "V = np.zeros((n_states, n_observations))\n",
    "print(V)\n",
    "# 路径矩阵，用来记录最大概率路径的前一个状态\n",
    "path = np.zeros((n_states, n_observations), dtype=int)\n",
    "print(path)\n",
    "# 初始化第一列（时间 t=0）\n",
    "for s in range(n_states):\n",
    "    V[s, 0] = start_prob[s] * emission_prob[s, obs_to_index[observed_sequence[0]]]\n",
    "    path[s, 0] = 0\n"
   ]
  },
  {
   "cell_type": "code",
   "execution_count": 15,
   "id": "f6eb21c1-a69e-4437-a625-bd17692e4c30",
   "metadata": {},
   "outputs": [],
   "source": [
    "# 动态规划填充维特比矩阵 V\n",
    "for t in range(1, n_observations):\n",
    "    for s in range(n_states):\n",
    "        # 计算从前一个时刻的所有状态转移到当前状态 s 的最大概率\n",
    "        probabilities = [\n",
    "            V[prev_s, t-1] * transition_prob[prev_s, s] * emission_prob[s, obs_to_index[observed_sequence[t]]]\n",
    "            for prev_s in range(n_states)\n",
    "        ]\n",
    "        V[s, t] = max(probabilities)\n",
    "        path[s, t] = np.argmax(probabilities)\n"
   ]
  },
  {
   "cell_type": "code",
   "execution_count": 16,
   "id": "0207a089-baad-46ea-8d39-85efd480b0a2",
   "metadata": {},
   "outputs": [
    {
     "name": "stdout",
     "output_type": "stream",
     "text": [
      "最优路径: ['Sunny', 'Sunny', 'Rainy']\n",
      "最优路径概率: 0.00864\n"
     ]
    }
   ],
   "source": [
    "# 终止状态：找到最后一列的最大概率的状态\n",
    "best_path_prob = max(V[:, -1])\n",
    "best_last_state = np.argmax(V[:, -1])\n",
    "\n",
    "# 反向追踪最优路径\n",
    "best_path = [best_last_state]\n",
    "for t in range(n_observations - 1, 0, -1):\n",
    "    best_path.insert(0, path[best_path[0], t])\n",
    "\n",
    "# 将状态索引转换为状态名称\n",
    "best_path_states = [states[state] for state in best_path]\n",
    "print(\"最优路径:\", best_path_states)\n",
    "print(\"最优路径概率:\", best_path_prob)\n"
   ]
  },
  {
   "cell_type": "code",
   "execution_count": null,
   "id": "d874d980-c464-46a9-9c7d-85bc77cc2089",
   "metadata": {},
   "outputs": [],
   "source": []
  },
  {
   "cell_type": "code",
   "execution_count": null,
   "id": "c2fde29a-0c63-4312-8b23-5e43e0d412da",
   "metadata": {},
   "outputs": [],
   "source": []
  },
  {
   "cell_type": "code",
   "execution_count": null,
   "id": "44f06a60-c8c3-492d-9c7e-0e625990b9dc",
   "metadata": {},
   "outputs": [],
   "source": []
  }
 ],
 "metadata": {
  "kernelspec": {
   "display_name": "Python 3 (ipykernel)",
   "language": "python",
   "name": "python3"
  },
  "language_info": {
   "codemirror_mode": {
    "name": "ipython",
    "version": 3
   },
   "file_extension": ".py",
   "mimetype": "text/x-python",
   "name": "python",
   "nbconvert_exporter": "python",
   "pygments_lexer": "ipython3",
   "version": "3.12.4"
  }
 },
 "nbformat": 4,
 "nbformat_minor": 5
}
